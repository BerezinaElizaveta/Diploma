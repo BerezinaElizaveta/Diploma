{
 "cells": [
  {
   "cell_type": "code",
   "execution_count": 155,
   "metadata": {},
   "outputs": [],
   "source": [
    "import pandas as pd"
   ]
  },
  {
   "cell_type": "code",
   "execution_count": 156,
   "metadata": {},
   "outputs": [],
   "source": [
    "from sklearn.model_selection import train_test_split"
   ]
  },
  {
   "cell_type": "code",
   "execution_count": 157,
   "metadata": {},
   "outputs": [],
   "source": [
    "df = pd.read_csv('the_big_df.csv', header = 0, sep = ',')"
   ]
  },
  {
   "cell_type": "code",
   "execution_count": 158,
   "metadata": {},
   "outputs": [
    {
     "data": {
      "text/html": [
       "<div>\n",
       "<style scoped>\n",
       "    .dataframe tbody tr th:only-of-type {\n",
       "        vertical-align: middle;\n",
       "    }\n",
       "\n",
       "    .dataframe tbody tr th {\n",
       "        vertical-align: top;\n",
       "    }\n",
       "\n",
       "    .dataframe thead th {\n",
       "        text-align: right;\n",
       "    }\n",
       "</style>\n",
       "<table border=\"1\" class=\"dataframe\">\n",
       "  <thead>\n",
       "    <tr style=\"text-align: right;\">\n",
       "      <th></th>\n",
       "      <th>src_ip</th>\n",
       "      <th>dst_ip</th>\n",
       "      <th>src_port</th>\n",
       "      <th>dst_port</th>\n",
       "      <th>first_pkt_time</th>\n",
       "      <th>last_pkt_time</th>\n",
       "      <th>avg_hops</th>\n",
       "      <th>avg_packet_len</th>\n",
       "      <th>nodeRelatedMessages:HeartbeatRequest</th>\n",
       "      <th>nodeRelatedMessages:HeartbeatResponse</th>\n",
       "      <th>nodeRelatedMessages:PFDManagementRequest</th>\n",
       "      <th>nodeRelatedMessages:PFDManagementResponse</th>\n",
       "      <th>nodeRelatedMessages:AssociationSetupRequest</th>\n",
       "      <th>nodeRelatedMessages:AssociationSetupResponse</th>\n",
       "      <th>nodeRelatedMessages:AssociationUpdateRequest</th>\n",
       "      <th>nodeRelatedMessages:AssociationUpdateResponset</th>\n",
       "      <th>nodeRelatedMessages:AssociationReleaseRequest</th>\n",
       "      <th>nodeRelatedMessages:AssociationReleaseResponse</th>\n",
       "      <th>nodeRelatedMessages:VersionNotSupportedResponse</th>\n",
       "      <th>nodeRelatedMessages:NodeReportRequest</th>\n",
       "      <th>nodeRelatedMessages:NodeReportResponse</th>\n",
       "      <th>nodeRelatedMessages:SessionSetDeletionRequest</th>\n",
       "      <th>nodeRelatedMessages:SessionSetDeletionResponse</th>\n",
       "      <th>sessionRelatedMessages:SessionEstablishmentRequest</th>\n",
       "      <th>sessionRelatedMessages:SessionEstablishmentResponse</th>\n",
       "      <th>sessionRelatedMessages:SessionModificationRequest</th>\n",
       "      <th>sessionRelatedMessages:SessionModificationResponse</th>\n",
       "      <th>sessionRelatedMessages:SessionDeletionRequest</th>\n",
       "      <th>sessionRelatedMessages:SessionDeletionResponse</th>\n",
       "      <th>sessionRelatedMessages:SessionReportRequest</th>\n",
       "      <th>sessionRelatedMessages:SessionReportResponse</th>\n",
       "      <th>class</th>\n",
       "    </tr>\n",
       "  </thead>\n",
       "  <tbody>\n",
       "    <tr>\n",
       "      <th>0</th>\n",
       "      <td>6003::1004</td>\n",
       "      <td>2000::100:502</td>\n",
       "      <td>8814</td>\n",
       "      <td>14608</td>\n",
       "      <td>1.603074e+09</td>\n",
       "      <td>1.603074e+09</td>\n",
       "      <td>190</td>\n",
       "      <td>230</td>\n",
       "      <td>0</td>\n",
       "      <td>15</td>\n",
       "      <td>0</td>\n",
       "      <td>0</td>\n",
       "      <td>0</td>\n",
       "      <td>0</td>\n",
       "      <td>0</td>\n",
       "      <td>0</td>\n",
       "      <td>0</td>\n",
       "      <td>0</td>\n",
       "      <td>0</td>\n",
       "      <td>0</td>\n",
       "      <td>0</td>\n",
       "      <td>0</td>\n",
       "      <td>0</td>\n",
       "      <td>4</td>\n",
       "      <td>63</td>\n",
       "      <td>301</td>\n",
       "      <td>149</td>\n",
       "      <td>30</td>\n",
       "      <td>32</td>\n",
       "      <td>182</td>\n",
       "      <td>135</td>\n",
       "      <td>0</td>\n",
       "    </tr>\n",
       "    <tr>\n",
       "      <th>1</th>\n",
       "      <td>14.173.200.75</td>\n",
       "      <td>6003::100a</td>\n",
       "      <td>40356</td>\n",
       "      <td>3120</td>\n",
       "      <td>1.603141e+09</td>\n",
       "      <td>1.603142e+09</td>\n",
       "      <td>190</td>\n",
       "      <td>161</td>\n",
       "      <td>8</td>\n",
       "      <td>3</td>\n",
       "      <td>0</td>\n",
       "      <td>0</td>\n",
       "      <td>0</td>\n",
       "      <td>0</td>\n",
       "      <td>0</td>\n",
       "      <td>0</td>\n",
       "      <td>0</td>\n",
       "      <td>0</td>\n",
       "      <td>0</td>\n",
       "      <td>0</td>\n",
       "      <td>0</td>\n",
       "      <td>0</td>\n",
       "      <td>0</td>\n",
       "      <td>13</td>\n",
       "      <td>46</td>\n",
       "      <td>420</td>\n",
       "      <td>459</td>\n",
       "      <td>16</td>\n",
       "      <td>11</td>\n",
       "      <td>63</td>\n",
       "      <td>28</td>\n",
       "      <td>1</td>\n",
       "    </tr>\n",
       "    <tr>\n",
       "      <th>2</th>\n",
       "      <td>99.173.254.198</td>\n",
       "      <td>190.170.118.18</td>\n",
       "      <td>48162</td>\n",
       "      <td>62144</td>\n",
       "      <td>1.603089e+09</td>\n",
       "      <td>1.603089e+09</td>\n",
       "      <td>190</td>\n",
       "      <td>130</td>\n",
       "      <td>0</td>\n",
       "      <td>3</td>\n",
       "      <td>0</td>\n",
       "      <td>0</td>\n",
       "      <td>0</td>\n",
       "      <td>0</td>\n",
       "      <td>0</td>\n",
       "      <td>0</td>\n",
       "      <td>0</td>\n",
       "      <td>0</td>\n",
       "      <td>0</td>\n",
       "      <td>0</td>\n",
       "      <td>0</td>\n",
       "      <td>0</td>\n",
       "      <td>0</td>\n",
       "      <td>80</td>\n",
       "      <td>14</td>\n",
       "      <td>412</td>\n",
       "      <td>385</td>\n",
       "      <td>143</td>\n",
       "      <td>51</td>\n",
       "      <td>1</td>\n",
       "      <td>144</td>\n",
       "      <td>1</td>\n",
       "    </tr>\n",
       "    <tr>\n",
       "      <th>3</th>\n",
       "      <td>6003::1002</td>\n",
       "      <td>6003::1002</td>\n",
       "      <td>14600</td>\n",
       "      <td>14605</td>\n",
       "      <td>1.603074e+09</td>\n",
       "      <td>1.603074e+09</td>\n",
       "      <td>190</td>\n",
       "      <td>231</td>\n",
       "      <td>3</td>\n",
       "      <td>8</td>\n",
       "      <td>0</td>\n",
       "      <td>0</td>\n",
       "      <td>0</td>\n",
       "      <td>0</td>\n",
       "      <td>0</td>\n",
       "      <td>0</td>\n",
       "      <td>0</td>\n",
       "      <td>0</td>\n",
       "      <td>0</td>\n",
       "      <td>0</td>\n",
       "      <td>0</td>\n",
       "      <td>0</td>\n",
       "      <td>0</td>\n",
       "      <td>57</td>\n",
       "      <td>30</td>\n",
       "      <td>365</td>\n",
       "      <td>528</td>\n",
       "      <td>14</td>\n",
       "      <td>33</td>\n",
       "      <td>22</td>\n",
       "      <td>124</td>\n",
       "      <td>0</td>\n",
       "    </tr>\n",
       "    <tr>\n",
       "      <th>4</th>\n",
       "      <td>6003::1005</td>\n",
       "      <td>2000::100:505</td>\n",
       "      <td>14603</td>\n",
       "      <td>8814</td>\n",
       "      <td>1.603074e+09</td>\n",
       "      <td>1.603075e+09</td>\n",
       "      <td>190</td>\n",
       "      <td>259</td>\n",
       "      <td>1</td>\n",
       "      <td>13</td>\n",
       "      <td>0</td>\n",
       "      <td>0</td>\n",
       "      <td>0</td>\n",
       "      <td>0</td>\n",
       "      <td>0</td>\n",
       "      <td>0</td>\n",
       "      <td>0</td>\n",
       "      <td>0</td>\n",
       "      <td>0</td>\n",
       "      <td>0</td>\n",
       "      <td>0</td>\n",
       "      <td>0</td>\n",
       "      <td>0</td>\n",
       "      <td>15</td>\n",
       "      <td>6</td>\n",
       "      <td>615</td>\n",
       "      <td>617</td>\n",
       "      <td>58</td>\n",
       "      <td>33</td>\n",
       "      <td>28</td>\n",
       "      <td>19</td>\n",
       "      <td>0</td>\n",
       "    </tr>\n",
       "  </tbody>\n",
       "</table>\n",
       "</div>"
      ],
      "text/plain": [
       "           src_ip          dst_ip  src_port  dst_port  first_pkt_time  last_pkt_time  avg_hops  avg_packet_len  nodeRelatedMessages:HeartbeatRequest  nodeRelatedMessages:HeartbeatResponse  nodeRelatedMessages:PFDManagementRequest  nodeRelatedMessages:PFDManagementResponse  nodeRelatedMessages:AssociationSetupRequest  nodeRelatedMessages:AssociationSetupResponse  nodeRelatedMessages:AssociationUpdateRequest  nodeRelatedMessages:AssociationUpdateResponset  nodeRelatedMessages:AssociationReleaseRequest  nodeRelatedMessages:AssociationReleaseResponse  nodeRelatedMessages:VersionNotSupportedResponse  nodeRelatedMessages:NodeReportRequest  nodeRelatedMessages:NodeReportResponse  nodeRelatedMessages:SessionSetDeletionRequest  nodeRelatedMessages:SessionSetDeletionResponse  sessionRelatedMessages:SessionEstablishmentRequest  sessionRelatedMessages:SessionEstablishmentResponse  sessionRelatedMessages:SessionModificationRequest  sessionRelatedMessages:SessionModificationResponse  sessionRelatedMessages:SessionDeletionRequest  sessionRelatedMessages:SessionDeletionResponse  sessionRelatedMessages:SessionReportRequest  sessionRelatedMessages:SessionReportResponse  class\n",
       "0      6003::1004   2000::100:502      8814     14608    1.603074e+09   1.603074e+09       190             230                                     0                                     15                                         0                                          0                                            0                                             0                                             0                                               0                                              0                                               0                                                0                                      0                                       0                                              0                                               0                                                   4                                                   63                                                301                                                 149                                             30                                              32                                          182                                           135      0\n",
       "1   14.173.200.75      6003::100a     40356      3120    1.603141e+09   1.603142e+09       190             161                                     8                                      3                                         0                                          0                                            0                                             0                                             0                                               0                                              0                                               0                                                0                                      0                                       0                                              0                                               0                                                  13                                                   46                                                420                                                 459                                             16                                              11                                           63                                            28      1\n",
       "2  99.173.254.198  190.170.118.18     48162     62144    1.603089e+09   1.603089e+09       190             130                                     0                                      3                                         0                                          0                                            0                                             0                                             0                                               0                                              0                                               0                                                0                                      0                                       0                                              0                                               0                                                  80                                                   14                                                412                                                 385                                            143                                              51                                            1                                           144      1\n",
       "3      6003::1002      6003::1002     14600     14605    1.603074e+09   1.603074e+09       190             231                                     3                                      8                                         0                                          0                                            0                                             0                                             0                                               0                                              0                                               0                                                0                                      0                                       0                                              0                                               0                                                  57                                                   30                                                365                                                 528                                             14                                              33                                           22                                           124      0\n",
       "4      6003::1005   2000::100:505     14603      8814    1.603074e+09   1.603075e+09       190             259                                     1                                     13                                         0                                          0                                            0                                             0                                             0                                               0                                              0                                               0                                                0                                      0                                       0                                              0                                               0                                                  15                                                    6                                                615                                                 617                                             58                                              33                                           28                                            19      0"
      ]
     },
     "execution_count": 158,
     "metadata": {},
     "output_type": "execute_result"
    }
   ],
   "source": [
    "df.head()"
   ]
  },
  {
   "cell_type": "code",
   "execution_count": 159,
   "metadata": {},
   "outputs": [],
   "source": [
    "data = df.iloc[:, 6:-1] # data, without 'class' column\n",
    "target = df.iloc[:, -1] #target, only 'class' column"
   ]
  },
  {
   "cell_type": "code",
   "execution_count": 160,
   "metadata": {},
   "outputs": [
    {
     "name": "stdout",
     "output_type": "stream",
     "text": [
      "train size=750, test_size=250, total_size=1000\n"
     ]
    }
   ],
   "source": [
    "X_train, X_test, Y_train, Y_test = \\\n",
    "    train_test_split(data, target, random_state=42, train_size=0.75)\n",
    "assert X_train.shape[0] + X_test.shape[0] == df.shape[0]\n",
    "print (\"train size={}, test_size={}, total_size={}\" \\\n",
    "       .format(X_train.shape[0], X_test.shape[0], df.shape[0]))"
   ]
  },
  {
   "cell_type": "code",
   "execution_count": 161,
   "metadata": {},
   "outputs": [],
   "source": [
    "from sklearn.model_selection import StratifiedKFold\n",
    "from sklearn.model_selection import cross_val_score\n",
    "\n",
    "from sklearn.linear_model import LogisticRegression\n",
    "from sklearn.neighbors import KNeighborsClassifier\n",
    "from sklearn import svm\n",
    "from sklearn.tree import DecisionTreeClassifier\n",
    "from sklearn.ensemble import RandomForestClassifier\n",
    "from sklearn.naive_bayes import GaussianNB, BernoulliNB\n",
    "    \n",
    "from sklearn.model_selection import GridSearchCV"
   ]
  },
  {
   "cell_type": "code",
   "execution_count": null,
   "metadata": {},
   "outputs": [],
   "source": []
  },
  {
   "cell_type": "code",
   "execution_count": 162,
   "metadata": {},
   "outputs": [],
   "source": [
    "labels = []\n",
    "means = []\n",
    "\n",
    "def create_lists(algorithm, accuracy):\n",
    "    labels.append(algorithm)\n",
    "    means.append(float('{:.2f}'.format(accuracy)))"
   ]
  },
  {
   "cell_type": "code",
   "execution_count": null,
   "metadata": {},
   "outputs": [],
   "source": []
  },
  {
   "cell_type": "code",
   "execution_count": 163,
   "metadata": {},
   "outputs": [],
   "source": [
    "log_model = LogisticRegression(random_state=42, max_iter=10000).fit(X_train, Y_train)"
   ]
  },
  {
   "cell_type": "code",
   "execution_count": 164,
   "metadata": {},
   "outputs": [],
   "source": [
    "skfold = StratifiedKFold(n_splits=3)"
   ]
  },
  {
   "cell_type": "code",
   "execution_count": 165,
   "metadata": {},
   "outputs": [],
   "source": [
    "log_scores = cross_val_score(log_model, data, target, cv=skfold)"
   ]
  },
  {
   "cell_type": "code",
   "execution_count": 166,
   "metadata": {},
   "outputs": [
    {
     "name": "stdout",
     "output_type": "stream",
     "text": [
      "Accuracy : [0.91916168 0.92192192 0.90690691]\n",
      "Mean accuracy: 0.92\n"
     ]
    }
   ],
   "source": [
    "print(\"Accuracy : {}\".format(log_scores))\n",
    "print(\"Mean accuracy: {:.2f}\".format(log_scores.mean()))"
   ]
  },
  {
   "cell_type": "code",
   "execution_count": 167,
   "metadata": {},
   "outputs": [],
   "source": [
    "create_lists('Logistic Regression', log_scores.mean())"
   ]
  },
  {
   "cell_type": "code",
   "execution_count": null,
   "metadata": {},
   "outputs": [],
   "source": []
  },
  {
   "cell_type": "code",
   "execution_count": 168,
   "metadata": {},
   "outputs": [],
   "source": [
    "knn_model = KNeighborsClassifier(n_neighbors=3).fit(X_train, Y_train)"
   ]
  },
  {
   "cell_type": "code",
   "execution_count": 169,
   "metadata": {},
   "outputs": [],
   "source": [
    "knn_scores = cross_val_score(knn_model, data, target, cv=skfold)"
   ]
  },
  {
   "cell_type": "code",
   "execution_count": 170,
   "metadata": {},
   "outputs": [
    {
     "name": "stdout",
     "output_type": "stream",
     "text": [
      "Accuracy : [0.87125749 0.88888889 0.87687688]\n",
      "Mean accuracy: 0.88\n"
     ]
    }
   ],
   "source": [
    "print(\"Accuracy : {}\".format(knn_scores))\n",
    "print(\"Mean accuracy: {:.2f}\".format(knn_scores.mean()))"
   ]
  },
  {
   "cell_type": "code",
   "execution_count": 171,
   "metadata": {},
   "outputs": [],
   "source": [
    "create_lists('K-Neighbors', knn_scores.mean())"
   ]
  },
  {
   "cell_type": "code",
   "execution_count": null,
   "metadata": {},
   "outputs": [],
   "source": []
  },
  {
   "cell_type": "code",
   "execution_count": 172,
   "metadata": {},
   "outputs": [],
   "source": [
    "svm_model = svm.SVC().fit(X_train, Y_train)"
   ]
  },
  {
   "cell_type": "code",
   "execution_count": 173,
   "metadata": {},
   "outputs": [],
   "source": [
    "svm_scores = cross_val_score(svm_model, data, target, cv=skfold)"
   ]
  },
  {
   "cell_type": "code",
   "execution_count": 174,
   "metadata": {},
   "outputs": [
    {
     "name": "stdout",
     "output_type": "stream",
     "text": [
      "Accuracy : [0.8742515  0.9009009  0.87387387]\n",
      "Mean accuracy: 0.88\n"
     ]
    }
   ],
   "source": [
    "print(\"Accuracy : {}\".format(svm_scores))\n",
    "print(\"Mean accuracy: {:.2f}\".format(svm_scores.mean()))"
   ]
  },
  {
   "cell_type": "code",
   "execution_count": 175,
   "metadata": {},
   "outputs": [],
   "source": [
    "create_lists('SVM', svm_scores.mean())"
   ]
  },
  {
   "cell_type": "code",
   "execution_count": null,
   "metadata": {},
   "outputs": [],
   "source": []
  },
  {
   "cell_type": "code",
   "execution_count": 176,
   "metadata": {},
   "outputs": [],
   "source": [
    "dtree_model = DecisionTreeClassifier(random_state=42).fit(X_train, Y_train)"
   ]
  },
  {
   "cell_type": "code",
   "execution_count": 177,
   "metadata": {},
   "outputs": [],
   "source": [
    "dtree_scores = cross_val_score(dtree_model, data, target, cv=skfold)"
   ]
  },
  {
   "cell_type": "code",
   "execution_count": 178,
   "metadata": {},
   "outputs": [
    {
     "name": "stdout",
     "output_type": "stream",
     "text": [
      "Accuracy : [0.93113772 0.92492492 0.93093093]\n",
      "Mean accuracy: 0.93\n"
     ]
    }
   ],
   "source": [
    "print(\"Accuracy : {}\".format(dtree_scores))\n",
    "print(\"Mean accuracy: {:.2f}\".format(dtree_scores.mean()))"
   ]
  },
  {
   "cell_type": "code",
   "execution_count": 179,
   "metadata": {},
   "outputs": [],
   "source": [
    "create_lists('Decision Tree', dtree_scores.mean())"
   ]
  },
  {
   "cell_type": "code",
   "execution_count": null,
   "metadata": {},
   "outputs": [],
   "source": []
  },
  {
   "cell_type": "code",
   "execution_count": 180,
   "metadata": {},
   "outputs": [],
   "source": [
    "rforest_model = RandomForestClassifier(n_estimators=10).fit(X_train, Y_train)"
   ]
  },
  {
   "cell_type": "code",
   "execution_count": 181,
   "metadata": {},
   "outputs": [],
   "source": [
    "rforest_scores = cross_val_score(rforest_model, data, target, cv=skfold)"
   ]
  },
  {
   "cell_type": "code",
   "execution_count": 182,
   "metadata": {},
   "outputs": [
    {
     "name": "stdout",
     "output_type": "stream",
     "text": [
      "Accuracy : [0.94011976 0.95795796 0.95795796]\n",
      "Mean accuracy: 0.95\n"
     ]
    }
   ],
   "source": [
    "print(\"Accuracy : {}\".format(rforest_scores))\n",
    "print(\"Mean accuracy: {:.2f}\".format(rforest_scores.mean()))"
   ]
  },
  {
   "cell_type": "code",
   "execution_count": 183,
   "metadata": {},
   "outputs": [],
   "source": [
    "create_lists('Random Forest', rforest_scores.mean())"
   ]
  },
  {
   "cell_type": "code",
   "execution_count": null,
   "metadata": {},
   "outputs": [],
   "source": []
  },
  {
   "cell_type": "code",
   "execution_count": 187,
   "metadata": {},
   "outputs": [],
   "source": [
    "# GaussianNBреализует гауссовский наивный байесовский алгоритм для классификации.\n",
    "# https://scikit-learn.org/stable/modules/naive_bayes.html\n",
    "gnb_model = GaussianNB().fit(X_train, Y_train)"
   ]
  },
  {
   "cell_type": "code",
   "execution_count": 188,
   "metadata": {},
   "outputs": [],
   "source": [
    "gnb_scores = cross_val_score(gnb_model, data, target, cv=skfold)"
   ]
  },
  {
   "cell_type": "code",
   "execution_count": 189,
   "metadata": {},
   "outputs": [
    {
     "name": "stdout",
     "output_type": "stream",
     "text": [
      "Accuracy : [0.95508982 0.95495495 0.95795796]\n",
      "Mean accuracy: 0.96\n"
     ]
    }
   ],
   "source": [
    "print(\"Accuracy : {}\".format(gnb_scores))\n",
    "print(\"Mean accuracy: {:.2f}\".format(gnb_scores.mean()))"
   ]
  },
  {
   "cell_type": "code",
   "execution_count": 190,
   "metadata": {},
   "outputs": [],
   "source": [
    "create_lists('Naive Bayes', gnb_scores.mean())"
   ]
  },
  {
   "cell_type": "code",
   "execution_count": null,
   "metadata": {},
   "outputs": [],
   "source": []
  },
  {
   "cell_type": "code",
   "execution_count": 191,
   "metadata": {},
   "outputs": [],
   "source": [
    "import seaborn as sns\n",
    "import matplotlib.pyplot as plt"
   ]
  },
  {
   "cell_type": "code",
   "execution_count": 192,
   "metadata": {},
   "outputs": [
    {
     "data": {
      "text/plain": [
       "Text(0.5, 0, 'ML Algorithm')"
      ]
     },
     "execution_count": 192,
     "metadata": {},
     "output_type": "execute_result"
    },
    {
     "data": {
      "image/png": "[encoded data removed]",
      "text/plain": [
       "<Figure size 648x360 with 1 Axes>"
      ]
     },
     "metadata": {
      "needs_background": "light"
     },
     "output_type": "display_data"
    }
   ],
   "source": [
    "plt.figure(figsize = (9,5))\n",
    "sns.barplot(x = pd.Series(labels), y = pd.Series(means))\n",
    "plt.ylabel('Accuracy')\n",
    "plt.xlabel('ML Algorithm')"
   ]
  },
  {
   "cell_type": "code",
   "execution_count": null,
   "metadata": {},
   "outputs": [],
   "source": []
  },
  {
   "cell_type": "code",
   "execution_count": 193,
   "metadata": {},
   "outputs": [],
   "source": [
    "df_temp = dict(zip(labels, means))"
   ]
  },
  {
   "cell_type": "code",
   "execution_count": 194,
   "metadata": {},
   "outputs": [
    {
     "data": {
      "text/plain": [
       "{'Logistic Regression': 0.92,\n",
       " 'K-Neighbors': 0.88,\n",
       " 'SVM': 0.88,\n",
       " 'Decision Tree': 0.93,\n",
       " 'Random Forest': 0.95,\n",
       " 'Naive Bayes': 0.96}"
      ]
     },
     "execution_count": 194,
     "metadata": {},
     "output_type": "execute_result"
    }
   ],
   "source": [
    "df_temp"
   ]
  },
  {
   "cell_type": "code",
   "execution_count": 195,
   "metadata": {},
   "outputs": [],
   "source": [
    "#создание датасета с наглядными названиями алгоритмов и их точностью в соотвествии с обобщающей способностью алгоритма \n",
    "#(в одну строку)\n",
    "beauty = pd.DataFrame(df_temp, index=['accuracy'])"
   ]
  },
  {
   "cell_type": "code",
   "execution_count": 196,
   "metadata": {},
   "outputs": [],
   "source": [
    "#beauty.style.set_table_styles([dict(selector=\"th\",props=[('max-column', '100px')])])"
   ]
  },
  {
   "cell_type": "code",
   "execution_count": 197,
   "metadata": {},
   "outputs": [
    {
     "data": {
      "text/html": [
       "<div>\n",
       "<style scoped>\n",
       "    .dataframe tbody tr th:only-of-type {\n",
       "        vertical-align: middle;\n",
       "    }\n",
       "\n",
       "    .dataframe tbody tr th {\n",
       "        vertical-align: top;\n",
       "    }\n",
       "\n",
       "    .dataframe thead th {\n",
       "        text-align: right;\n",
       "    }\n",
       "</style>\n",
       "<table border=\"1\" class=\"dataframe\">\n",
       "  <thead>\n",
       "    <tr style=\"text-align: right;\">\n",
       "      <th></th>\n",
       "      <th>Logistic Regression</th>\n",
       "      <th>K-Neighbors</th>\n",
       "      <th>SVM</th>\n",
       "      <th>Decision Tree</th>\n",
       "      <th>Random Forest</th>\n",
       "      <th>Naive Bayes</th>\n",
       "    </tr>\n",
       "  </thead>\n",
       "  <tbody>\n",
       "    <tr>\n",
       "      <th>accuracy</th>\n",
       "      <td>0.92</td>\n",
       "      <td>0.88</td>\n",
       "      <td>0.88</td>\n",
       "      <td>0.93</td>\n",
       "      <td>0.95</td>\n",
       "      <td>0.96</td>\n",
       "    </tr>\n",
       "  </tbody>\n",
       "</table>\n",
       "</div>"
      ],
      "text/plain": [
       "          Logistic Regression  K-Neighbors   SVM  Decision Tree  Random Forest  Naive Bayes\n",
       "accuracy                 0.92         0.88  0.88           0.93           0.95         0.96"
      ]
     },
     "execution_count": 197,
     "metadata": {},
     "output_type": "execute_result"
    }
   ],
   "source": [
    "beauty"
   ]
  },
  {
   "cell_type": "code",
   "execution_count": null,
   "metadata": {},
   "outputs": [],
   "source": []
  },
  {
   "cell_type": "code",
   "execution_count": 198,
   "metadata": {},
   "outputs": [],
   "source": [
    "#создание датасета с наглядными названиями алгоритмов и их точностью в соотвествии с обобщающей способностью алгоритма \n",
    "#(в виде таблицы)\n",
    "another_beauty = pd.concat([pd.Series(labels, name='ML Algorithm'), pd.Series(means, name='Accuracy')], axis=1)"
   ]
  },
  {
   "cell_type": "code",
   "execution_count": 199,
   "metadata": {},
   "outputs": [
    {
     "data": {
      "text/html": [
       "<div>\n",
       "<style scoped>\n",
       "    .dataframe tbody tr th:only-of-type {\n",
       "        vertical-align: middle;\n",
       "    }\n",
       "\n",
       "    .dataframe tbody tr th {\n",
       "        vertical-align: top;\n",
       "    }\n",
       "\n",
       "    .dataframe thead th {\n",
       "        text-align: right;\n",
       "    }\n",
       "</style>\n",
       "<table border=\"1\" class=\"dataframe\">\n",
       "  <thead>\n",
       "    <tr style=\"text-align: right;\">\n",
       "      <th></th>\n",
       "      <th>ML Algorithm</th>\n",
       "      <th>Accuracy</th>\n",
       "    </tr>\n",
       "  </thead>\n",
       "  <tbody>\n",
       "    <tr>\n",
       "      <th>0</th>\n",
       "      <td>Logistic Regression</td>\n",
       "      <td>0.92</td>\n",
       "    </tr>\n",
       "    <tr>\n",
       "      <th>1</th>\n",
       "      <td>K-Neighbors</td>\n",
       "      <td>0.88</td>\n",
       "    </tr>\n",
       "    <tr>\n",
       "      <th>2</th>\n",
       "      <td>SVM</td>\n",
       "      <td>0.88</td>\n",
       "    </tr>\n",
       "    <tr>\n",
       "      <th>3</th>\n",
       "      <td>Decision Tree</td>\n",
       "      <td>0.93</td>\n",
       "    </tr>\n",
       "    <tr>\n",
       "      <th>4</th>\n",
       "      <td>Random Forest</td>\n",
       "      <td>0.95</td>\n",
       "    </tr>\n",
       "    <tr>\n",
       "      <th>5</th>\n",
       "      <td>Naive Bayes</td>\n",
       "      <td>0.96</td>\n",
       "    </tr>\n",
       "  </tbody>\n",
       "</table>\n",
       "</div>"
      ],
      "text/plain": [
       "          ML Algorithm  Accuracy\n",
       "0  Logistic Regression      0.92\n",
       "1          K-Neighbors      0.88\n",
       "2                  SVM      0.88\n",
       "3        Decision Tree      0.93\n",
       "4        Random Forest      0.95\n",
       "5          Naive Bayes      0.96"
      ]
     },
     "execution_count": 199,
     "metadata": {},
     "output_type": "execute_result"
    }
   ],
   "source": [
    "another_beauty"
   ]
  },
  {
   "cell_type": "code",
   "execution_count": 200,
   "metadata": {},
   "outputs": [
    {
     "data": {
      "text/html": [
       "<div>\n",
       "<style scoped>\n",
       "    .dataframe tbody tr th:only-of-type {\n",
       "        vertical-align: middle;\n",
       "    }\n",
       "\n",
       "    .dataframe tbody tr th {\n",
       "        vertical-align: top;\n",
       "    }\n",
       "\n",
       "    .dataframe thead th {\n",
       "        text-align: right;\n",
       "    }\n",
       "</style>\n",
       "<table border=\"1\" class=\"dataframe\">\n",
       "  <thead>\n",
       "    <tr style=\"text-align: right;\">\n",
       "      <th></th>\n",
       "      <th>index</th>\n",
       "      <th>ML Algorithm</th>\n",
       "      <th>Accuracy</th>\n",
       "    </tr>\n",
       "  </thead>\n",
       "  <tbody>\n",
       "    <tr>\n",
       "      <th>0</th>\n",
       "      <td>5</td>\n",
       "      <td>Naive Bayes</td>\n",
       "      <td>0.96</td>\n",
       "    </tr>\n",
       "    <tr>\n",
       "      <th>1</th>\n",
       "      <td>4</td>\n",
       "      <td>Random Forest</td>\n",
       "      <td>0.95</td>\n",
       "    </tr>\n",
       "    <tr>\n",
       "      <th>2</th>\n",
       "      <td>3</td>\n",
       "      <td>Decision Tree</td>\n",
       "      <td>0.93</td>\n",
       "    </tr>\n",
       "  </tbody>\n",
       "</table>\n",
       "</div>"
      ],
      "text/plain": [
       "   index   ML Algorithm  Accuracy\n",
       "0      5    Naive Bayes      0.96\n",
       "1      4  Random Forest      0.95\n",
       "2      3  Decision Tree      0.93"
      ]
     },
     "execution_count": 200,
     "metadata": {},
     "output_type": "execute_result"
    }
   ],
   "source": [
    "#выбрать три лучших алгоритма\n",
    "another_beauty.sort_values('Accuracy', ascending=False).head(3).reset_index()"
   ]
  },
  {
   "cell_type": "code",
   "execution_count": null,
   "metadata": {},
   "outputs": [],
   "source": []
  },
  {
   "cell_type": "code",
   "execution_count": 201,
   "metadata": {},
   "outputs": [],
   "source": [
    "from sklearn.model_selection import GridSearchCV"
   ]
  },
  {
   "cell_type": "code",
   "execution_count": 202,
   "metadata": {},
   "outputs": [],
   "source": [
    "RandFor = RandomForestClassifier()"
   ]
  },
  {
   "cell_type": "code",
   "execution_count": 84,
   "metadata": {},
   "outputs": [],
   "source": [
    "#https://vc.ru/ml/147132-kak-avtomaticheski-podobrat-parametry-dlya-modeli-mashinnogo-obucheniya-ispolzuem-gridsearchcv\n",
    "parametrs = { 'n_estimators': range (10, 51, 10),\n",
    "              'max_depth': range (1,13, 2),\n",
    "              'min_samples_leaf': range (1,8),\n",
    "              'min_samples_split': range (2,10,2) }"
   ]
  },
  {
   "cell_type": "code",
   "execution_count": 85,
   "metadata": {},
   "outputs": [],
   "source": [
    "randgrid = GridSearchCV(RandFor, parametrs)"
   ]
  },
  {
   "cell_type": "code",
   "execution_count": 87,
   "metadata": {},
   "outputs": [
    {
     "data": {
      "text/plain": [
       "GridSearchCV(estimator=RandomForestClassifier(),\n",
       "             param_grid={'max_depth': range(1, 13, 2),\n",
       "                         'min_samples_leaf': range(1, 8),\n",
       "                         'min_samples_split': range(2, 10, 2),\n",
       "                         'n_estimators': range(10, 51, 10)})"
      ]
     },
     "execution_count": 87,
     "metadata": {},
     "output_type": "execute_result"
    }
   ],
   "source": [
    "randgrid.fit(X_train, Y_train)"
   ]
  },
  {
   "cell_type": "code",
   "execution_count": 88,
   "metadata": {},
   "outputs": [
    {
     "data": {
      "text/plain": [
       "{'max_depth': 5,\n",
       " 'min_samples_leaf': 2,\n",
       " 'min_samples_split': 2,\n",
       " 'n_estimators': 40}"
      ]
     },
     "execution_count": 88,
     "metadata": {},
     "output_type": "execute_result"
    }
   ],
   "source": [
    "randgrid.best_params_"
   ]
  },
  {
   "cell_type": "code",
   "execution_count": 89,
   "metadata": {},
   "outputs": [],
   "source": [
    "from sklearn import metrics"
   ]
  },
  {
   "cell_type": "code",
   "execution_count": 91,
   "metadata": {},
   "outputs": [],
   "source": [
    "prediction_randgrid = randgrid.predict(X_test)"
   ]
  },
  {
   "cell_type": "code",
   "execution_count": 94,
   "metadata": {},
   "outputs": [],
   "source": [
    "#accuracy доля правильно классифицированных объектов\n",
    "acc_randgrid = metrics.accuracy_score(Y_test, prediction_randgrid)"
   ]
  },
  {
   "cell_type": "code",
   "execution_count": 95,
   "metadata": {},
   "outputs": [
    {
     "data": {
      "text/plain": [
       "0.972"
      ]
     },
     "execution_count": 95,
     "metadata": {},
     "output_type": "execute_result"
    }
   ],
   "source": [
    "acc_randgrid"
   ]
  },
  {
   "cell_type": "code",
   "execution_count": 102,
   "metadata": {},
   "outputs": [],
   "source": [
    "#precision точность при отнесении объектов к нулевому классу (normal)\n",
    "prec_randgrid_0 = metrics.precision_score(Y_test, prediction_randgrid, pos_label=0)"
   ]
  },
  {
   "cell_type": "code",
   "execution_count": 103,
   "metadata": {},
   "outputs": [
    {
     "data": {
      "text/plain": [
       "0.9548387096774194"
      ]
     },
     "execution_count": 103,
     "metadata": {},
     "output_type": "execute_result"
    }
   ],
   "source": [
    "prec_randgrid_0"
   ]
  },
  {
   "cell_type": "code",
   "execution_count": 106,
   "metadata": {},
   "outputs": [],
   "source": [
    "#precision точность при отнесении объектов к первому классу (abnormal)\n",
    "prec_randgrid_1 = metrics.precision_score(Y_test, prediction_randgrid)"
   ]
  },
  {
   "cell_type": "code",
   "execution_count": 107,
   "metadata": {},
   "outputs": [
    {
     "data": {
      "text/plain": [
       "1.0"
      ]
     },
     "execution_count": 107,
     "metadata": {},
     "output_type": "execute_result"
    }
   ],
   "source": [
    "prec_randgrid_1"
   ]
  },
  {
   "cell_type": "code",
   "execution_count": 117,
   "metadata": {},
   "outputs": [],
   "source": [
    "#recall полнота\n",
    "rec_randgrid_0 = metrics.recall_score(Y_test, prediction_randgrid, pos_label=0)\n",
    "rec_randgrid_1 = metrics.recall_score(Y_test, prediction_randgrid)"
   ]
  },
  {
   "cell_type": "code",
   "execution_count": 118,
   "metadata": {},
   "outputs": [
    {
     "data": {
      "text/plain": [
       "1.0"
      ]
     },
     "execution_count": 118,
     "metadata": {},
     "output_type": "execute_result"
    }
   ],
   "source": [
    "rec_randgrid_0"
   ]
  },
  {
   "cell_type": "code",
   "execution_count": 119,
   "metadata": {},
   "outputs": [
    {
     "data": {
      "text/plain": [
       "0.9313725490196079"
      ]
     },
     "execution_count": 119,
     "metadata": {},
     "output_type": "execute_result"
    }
   ],
   "source": [
    "rec_randgrid_1"
   ]
  },
  {
   "cell_type": "code",
   "execution_count": 120,
   "metadata": {},
   "outputs": [],
   "source": [
    "#f-score\n",
    "f_randgrid_0 = metrics.f1_score(Y_test, prediction_randgrid, pos_label=0)\n",
    "f_randgrid_1 = metrics.f1_score(Y_test, prediction_randgrid)"
   ]
  },
  {
   "cell_type": "code",
   "execution_count": 121,
   "metadata": {},
   "outputs": [
    {
     "data": {
      "text/plain": [
       "0.9768976897689768"
      ]
     },
     "execution_count": 121,
     "metadata": {},
     "output_type": "execute_result"
    }
   ],
   "source": [
    "f_randgrid_0"
   ]
  },
  {
   "cell_type": "code",
   "execution_count": 122,
   "metadata": {},
   "outputs": [
    {
     "data": {
      "text/plain": [
       "0.9644670050761421"
      ]
     },
     "execution_count": 122,
     "metadata": {},
     "output_type": "execute_result"
    }
   ],
   "source": [
    "f_randgrid_1"
   ]
  },
  {
   "cell_type": "code",
   "execution_count": 123,
   "metadata": {},
   "outputs": [
    {
     "name": "stdout",
     "output_type": "stream",
     "text": [
      "              precision    recall  f1-score   support\n",
      "\n",
      "           0       0.95      1.00      0.98       148\n",
      "           1       1.00      0.93      0.96       102\n",
      "\n",
      "    accuracy                           0.97       250\n",
      "   macro avg       0.98      0.97      0.97       250\n",
      "weighted avg       0.97      0.97      0.97       250\n",
      "\n"
     ]
    }
   ],
   "source": [
    "print(metrics.classification_report(Y_test, prediction_randgrid))"
   ]
  },
  {
   "cell_type": "code",
   "execution_count": 124,
   "metadata": {},
   "outputs": [],
   "source": [
    "# support - сколько изначально было объектов в разных классах -> што?\n",
    "# первые строки - характеристики в разрезе классов\n",
    "# думаю, что последняя строка - то, во что превратилось avg/total, усредненное значение по метрикам\n",
    "# я так глянула - можно только эту таблицу взять, она выдает те же результаты, только все вместе"
   ]
  },
  {
   "cell_type": "code",
   "execution_count": 127,
   "metadata": {},
   "outputs": [],
   "source": [
    "# ROC-кривая нужна для того, чтобы оценить качество модели\n",
    "# пунктиром задана кривая для классификатора, который предсказывает случайным образом\n",
    "\n",
    "# сначала нужно получить вероятностные характеристики, стр. 219-220 в книге\n",
    "randgrid_probabilities = randgrid.predict_proba(X_test)\n",
    "# затем получить ложноположительные и истинноположительные доли вероятностей\n",
    "false_positive_rate, true_positive_rate, threshold = metrics.roc_curve(Y_test, randgrid_probabilities[:,1])"
   ]
  },
  {
   "cell_type": "code",
   "execution_count": 130,
   "metadata": {},
   "outputs": [
    {
     "data": {
      "image/png": "[encoded data removed]",
      "text/plain": [
       "<Figure size 432x288 with 1 Axes>"
      ]
     },
     "metadata": {
      "needs_background": "light"
     },
     "output_type": "display_data"
    }
   ],
   "source": [
    "# строим график\n",
    "plt.title(\"ROC curve\")\n",
    "plt.plot(false_positive_rate, true_positive_rate)\n",
    "plt.plot([0, 1], ls=\"--\")\n",
    "plt.plot([0, 0], [1, 0] , c=\".7\")\n",
    "plt.plot([1, 1] , c=\".7\")\n",
    "plt.ylabel(\"Доля истинноположительных исходов\")\n",
    "plt.xlabel(\"Доля ложноположительных исходов\")\n",
    "plt.show()"
   ]
  },
  {
   "cell_type": "code",
   "execution_count": 136,
   "metadata": {},
   "outputs": [],
   "source": [
    "# просто данные для красивого и правильного ROC\n",
    "from sklearn.datasets import make_classification\n",
    "features, target = make_classification(n_samples=10000,\n",
    "                                       n_features=10,\n",
    "                                       n_classes=2,\n",
    "                                       n_informative=3,\n",
    "                                       random_state=3)\n",
    "# Разбить на тренировочный и тестовый наборы\n",
    "features_train, features_test, target_train, target_test = train_test_split(features, target, test_size=0.1, random_state=1)\n",
    "# Создать логистический регрессионный классификатор\n",
    "logit = LogisticRegression()\n",
    "# Натренировать модель\n",
    "logit.fit(features_train, target_train)\n",
    "# Получить предсказанные вероятности\n",
    "target_probabilities = logit.predict_proba(features_test)[:,1]\n",
    "# Создать доли истинно- и ложноположительных исходов\n",
    "fpr, tpr, _ = metrics.roc_curve(target_test, target_probabilities)"
   ]
  },
  {
   "cell_type": "code",
   "execution_count": 137,
   "metadata": {},
   "outputs": [
    {
     "data": {
      "text/plain": [
       "<matplotlib.legend.Legend at 0x20c825d6eb0>"
      ]
     },
     "execution_count": 137,
     "metadata": {},
     "output_type": "execute_result"
    },
    {
     "data": {
      "image/png": "[encoded data removed]",
      "text/plain": [
       "<Figure size 432x288 with 1 Axes>"
      ]
     },
     "metadata": {
      "needs_background": "light"
     },
     "output_type": "display_data"
    }
   ],
   "source": [
    "plt.plot(false_positive_rate, true_positive_rate, label='random forest clf')\n",
    "plt.plot(fpr, tpr, label='ideal clf')\n",
    "plt.plot([0,1], [0,1], '--', color='grey', label='random clf')\n",
    "plt.xlim([-0.05, 1.05])\n",
    "plt.ylim([-0.05, 1.05])\n",
    "plt.xlabel('False Positive Rate')\n",
    "plt.ylabel('True Positive Rate')\n",
    "plt.title('ROC curve')\n",
    "plt.legend(loc='lower right')\n",
    "# https://ru.coursera.org/lecture/supervised-learning/mietriki-kachiestva-sklearn-metrics-f63de"
   ]
  },
  {
   "cell_type": "code",
   "execution_count": 139,
   "metadata": {},
   "outputs": [],
   "source": [
    "# чтобы количественно оценить качество модели, надо посчитать площадь подкривой\n",
    "# можно передать как вероятностную классификацию, так и по меткам\n",
    "# по меткам в рамках группы элементны могут идти в случайном порядке\n",
    "# вероятностные более упорядоченны\n",
    "# поэтому значения будут близкими, но все же разными"
   ]
  },
  {
   "cell_type": "code",
   "execution_count": 140,
   "metadata": {},
   "outputs": [
    {
     "data": {
      "text/plain": [
       "0.9656862745098039"
      ]
     },
     "execution_count": 140,
     "metadata": {},
     "output_type": "execute_result"
    }
   ],
   "source": [
    "metrics.roc_auc_score(Y_test, prediction_randgrid) # метки"
   ]
  },
  {
   "cell_type": "code",
   "execution_count": 141,
   "metadata": {},
   "outputs": [
    {
     "data": {
      "text/plain": [
       "0.9727080021197668"
      ]
     },
     "execution_count": 141,
     "metadata": {},
     "output_type": "execute_result"
    }
   ],
   "source": [
    "metrics.roc_auc_score(Y_test, randgrid_probabilities[:,1]) # метки"
   ]
  },
  {
   "cell_type": "code",
   "execution_count": 143,
   "metadata": {},
   "outputs": [
    {
     "data": {
      "text/plain": [
       "0.9670857390574998"
      ]
     },
     "execution_count": 143,
     "metadata": {},
     "output_type": "execute_result"
    }
   ],
   "source": [
    "# логистические потери, чем меньше, тем лучше\n",
    "metrics.log_loss(Y_test, prediction_randgrid)"
   ]
  },
  {
   "cell_type": "code",
   "execution_count": null,
   "metadata": {},
   "outputs": [],
   "source": []
  },
  {
   "cell_type": "code",
   "execution_count": 145,
   "metadata": {},
   "outputs": [],
   "source": [
    "bayesgrid = GaussianNB()"
   ]
  },
  {
   "cell_type": "code",
   "execution_count": null,
   "metadata": {},
   "outputs": [],
   "source": [
    "parametrs = {\n",
    "    \n",
    "}"
   ]
  }
 ],
 "metadata": {
  "kernelspec": {
   "display_name": "Python 3",
   "language": "python",
   "name": "python3"
  },
  "language_info": {
   "codemirror_mode": {
    "name": "ipython",
    "version": 3
   },
   "file_extension": ".py",
   "mimetype": "text/x-python",
   "name": "python",
   "nbconvert_exporter": "python",
   "pygments_lexer": "ipython3",
   "version": "3.8.5"
  }
 },
 "nbformat": 4,
 "nbformat_minor": 4
}
