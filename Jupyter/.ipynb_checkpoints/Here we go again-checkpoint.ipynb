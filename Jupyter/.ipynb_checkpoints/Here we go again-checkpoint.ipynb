{
 "cells": [
  {
   "cell_type": "code",
   "execution_count": 1,
   "metadata": {},
   "outputs": [],
   "source": [
    "import pandas as pd"
   ]
  },
  {
   "cell_type": "code",
   "execution_count": 2,
   "metadata": {},
   "outputs": [],
   "source": [
    "from sklearn.model_selection import train_test_split"
   ]
  },
  {
   "cell_type": "code",
   "execution_count": 3,
   "metadata": {},
   "outputs": [],
   "source": [
    "df = pd.read_csv('the_big_df.csv', header = 0, sep = ',')"
   ]
  },
  {
   "cell_type": "code",
   "execution_count": 4,
   "metadata": {},
   "outputs": [
    {
     "data": {
      "text/html": [
       "<div>\n",
       "<style scoped>\n",
       "    .dataframe tbody tr th:only-of-type {\n",
       "        vertical-align: middle;\n",
       "    }\n",
       "\n",
       "    .dataframe tbody tr th {\n",
       "        vertical-align: top;\n",
       "    }\n",
       "\n",
       "    .dataframe thead th {\n",
       "        text-align: right;\n",
       "    }\n",
       "</style>\n",
       "<table border=\"1\" class=\"dataframe\">\n",
       "  <thead>\n",
       "    <tr style=\"text-align: right;\">\n",
       "      <th></th>\n",
       "      <th>src_ip</th>\n",
       "      <th>dst_ip</th>\n",
       "      <th>src_port</th>\n",
       "      <th>dst_port</th>\n",
       "      <th>first_pkt_time</th>\n",
       "      <th>last_pkt_time</th>\n",
       "      <th>avg_hops</th>\n",
       "      <th>avg_packet_len</th>\n",
       "      <th>nodeRelatedMessages:HeartbeatRequest</th>\n",
       "      <th>nodeRelatedMessages:HeartbeatResponse</th>\n",
       "      <th>...</th>\n",
       "      <th>nodeRelatedMessages:SessionSetDeletionResponse</th>\n",
       "      <th>sessionRelatedMessages:SessionEstablishmentRequest</th>\n",
       "      <th>sessionRelatedMessages:SessionEstablishmentResponse</th>\n",
       "      <th>sessionRelatedMessages:SessionModificationRequest</th>\n",
       "      <th>sessionRelatedMessages:SessionModificationResponse</th>\n",
       "      <th>sessionRelatedMessages:SessionDeletionRequest</th>\n",
       "      <th>sessionRelatedMessages:SessionDeletionResponse</th>\n",
       "      <th>sessionRelatedMessages:SessionReportRequest</th>\n",
       "      <th>sessionRelatedMessages:SessionReportResponse</th>\n",
       "      <th>class</th>\n",
       "    </tr>\n",
       "  </thead>\n",
       "  <tbody>\n",
       "    <tr>\n",
       "      <th>0</th>\n",
       "      <td>6003::1004</td>\n",
       "      <td>2000::100:502</td>\n",
       "      <td>8814</td>\n",
       "      <td>14608</td>\n",
       "      <td>1.603074e+09</td>\n",
       "      <td>1.603074e+09</td>\n",
       "      <td>190</td>\n",
       "      <td>230</td>\n",
       "      <td>0</td>\n",
       "      <td>15</td>\n",
       "      <td>...</td>\n",
       "      <td>0</td>\n",
       "      <td>4</td>\n",
       "      <td>63</td>\n",
       "      <td>301</td>\n",
       "      <td>149</td>\n",
       "      <td>30</td>\n",
       "      <td>32</td>\n",
       "      <td>182</td>\n",
       "      <td>135</td>\n",
       "      <td>0</td>\n",
       "    </tr>\n",
       "    <tr>\n",
       "      <th>1</th>\n",
       "      <td>14.173.200.75</td>\n",
       "      <td>6003::100a</td>\n",
       "      <td>40356</td>\n",
       "      <td>3120</td>\n",
       "      <td>1.603141e+09</td>\n",
       "      <td>1.603142e+09</td>\n",
       "      <td>190</td>\n",
       "      <td>161</td>\n",
       "      <td>8</td>\n",
       "      <td>3</td>\n",
       "      <td>...</td>\n",
       "      <td>0</td>\n",
       "      <td>13</td>\n",
       "      <td>46</td>\n",
       "      <td>420</td>\n",
       "      <td>459</td>\n",
       "      <td>16</td>\n",
       "      <td>11</td>\n",
       "      <td>63</td>\n",
       "      <td>28</td>\n",
       "      <td>1</td>\n",
       "    </tr>\n",
       "    <tr>\n",
       "      <th>2</th>\n",
       "      <td>99.173.254.198</td>\n",
       "      <td>190.170.118.18</td>\n",
       "      <td>48162</td>\n",
       "      <td>62144</td>\n",
       "      <td>1.603089e+09</td>\n",
       "      <td>1.603089e+09</td>\n",
       "      <td>190</td>\n",
       "      <td>130</td>\n",
       "      <td>0</td>\n",
       "      <td>3</td>\n",
       "      <td>...</td>\n",
       "      <td>0</td>\n",
       "      <td>80</td>\n",
       "      <td>14</td>\n",
       "      <td>412</td>\n",
       "      <td>385</td>\n",
       "      <td>143</td>\n",
       "      <td>51</td>\n",
       "      <td>1</td>\n",
       "      <td>144</td>\n",
       "      <td>1</td>\n",
       "    </tr>\n",
       "    <tr>\n",
       "      <th>3</th>\n",
       "      <td>6003::1002</td>\n",
       "      <td>6003::1002</td>\n",
       "      <td>14600</td>\n",
       "      <td>14605</td>\n",
       "      <td>1.603074e+09</td>\n",
       "      <td>1.603074e+09</td>\n",
       "      <td>190</td>\n",
       "      <td>231</td>\n",
       "      <td>3</td>\n",
       "      <td>8</td>\n",
       "      <td>...</td>\n",
       "      <td>0</td>\n",
       "      <td>57</td>\n",
       "      <td>30</td>\n",
       "      <td>365</td>\n",
       "      <td>528</td>\n",
       "      <td>14</td>\n",
       "      <td>33</td>\n",
       "      <td>22</td>\n",
       "      <td>124</td>\n",
       "      <td>0</td>\n",
       "    </tr>\n",
       "    <tr>\n",
       "      <th>4</th>\n",
       "      <td>6003::1005</td>\n",
       "      <td>2000::100:505</td>\n",
       "      <td>14603</td>\n",
       "      <td>8814</td>\n",
       "      <td>1.603074e+09</td>\n",
       "      <td>1.603075e+09</td>\n",
       "      <td>190</td>\n",
       "      <td>259</td>\n",
       "      <td>1</td>\n",
       "      <td>13</td>\n",
       "      <td>...</td>\n",
       "      <td>0</td>\n",
       "      <td>15</td>\n",
       "      <td>6</td>\n",
       "      <td>615</td>\n",
       "      <td>617</td>\n",
       "      <td>58</td>\n",
       "      <td>33</td>\n",
       "      <td>28</td>\n",
       "      <td>19</td>\n",
       "      <td>0</td>\n",
       "    </tr>\n",
       "  </tbody>\n",
       "</table>\n",
       "<p>5 rows × 32 columns</p>\n",
       "</div>"
      ],
      "text/plain": [
       "           src_ip          dst_ip  src_port  dst_port  first_pkt_time  \\\n",
       "0      6003::1004   2000::100:502      8814     14608    1.603074e+09   \n",
       "1   14.173.200.75      6003::100a     40356      3120    1.603141e+09   \n",
       "2  99.173.254.198  190.170.118.18     48162     62144    1.603089e+09   \n",
       "3      6003::1002      6003::1002     14600     14605    1.603074e+09   \n",
       "4      6003::1005   2000::100:505     14603      8814    1.603074e+09   \n",
       "\n",
       "   last_pkt_time  avg_hops  avg_packet_len  \\\n",
       "0   1.603074e+09       190             230   \n",
       "1   1.603142e+09       190             161   \n",
       "2   1.603089e+09       190             130   \n",
       "3   1.603074e+09       190             231   \n",
       "4   1.603075e+09       190             259   \n",
       "\n",
       "   nodeRelatedMessages:HeartbeatRequest  \\\n",
       "0                                     0   \n",
       "1                                     8   \n",
       "2                                     0   \n",
       "3                                     3   \n",
       "4                                     1   \n",
       "\n",
       "   nodeRelatedMessages:HeartbeatResponse  ...  \\\n",
       "0                                     15  ...   \n",
       "1                                      3  ...   \n",
       "2                                      3  ...   \n",
       "3                                      8  ...   \n",
       "4                                     13  ...   \n",
       "\n",
       "   nodeRelatedMessages:SessionSetDeletionResponse  \\\n",
       "0                                               0   \n",
       "1                                               0   \n",
       "2                                               0   \n",
       "3                                               0   \n",
       "4                                               0   \n",
       "\n",
       "   sessionRelatedMessages:SessionEstablishmentRequest  \\\n",
       "0                                                  4    \n",
       "1                                                 13    \n",
       "2                                                 80    \n",
       "3                                                 57    \n",
       "4                                                 15    \n",
       "\n",
       "   sessionRelatedMessages:SessionEstablishmentResponse  \\\n",
       "0                                                 63     \n",
       "1                                                 46     \n",
       "2                                                 14     \n",
       "3                                                 30     \n",
       "4                                                  6     \n",
       "\n",
       "   sessionRelatedMessages:SessionModificationRequest  \\\n",
       "0                                                301   \n",
       "1                                                420   \n",
       "2                                                412   \n",
       "3                                                365   \n",
       "4                                                615   \n",
       "\n",
       "   sessionRelatedMessages:SessionModificationResponse  \\\n",
       "0                                                149    \n",
       "1                                                459    \n",
       "2                                                385    \n",
       "3                                                528    \n",
       "4                                                617    \n",
       "\n",
       "   sessionRelatedMessages:SessionDeletionRequest  \\\n",
       "0                                             30   \n",
       "1                                             16   \n",
       "2                                            143   \n",
       "3                                             14   \n",
       "4                                             58   \n",
       "\n",
       "   sessionRelatedMessages:SessionDeletionResponse  \\\n",
       "0                                              32   \n",
       "1                                              11   \n",
       "2                                              51   \n",
       "3                                              33   \n",
       "4                                              33   \n",
       "\n",
       "   sessionRelatedMessages:SessionReportRequest  \\\n",
       "0                                          182   \n",
       "1                                           63   \n",
       "2                                            1   \n",
       "3                                           22   \n",
       "4                                           28   \n",
       "\n",
       "   sessionRelatedMessages:SessionReportResponse  class  \n",
       "0                                           135      0  \n",
       "1                                            28      1  \n",
       "2                                           144      1  \n",
       "3                                           124      0  \n",
       "4                                            19      0  \n",
       "\n",
       "[5 rows x 32 columns]"
      ]
     },
     "execution_count": 4,
     "metadata": {},
     "output_type": "execute_result"
    }
   ],
   "source": [
    "df.head()"
   ]
  },
  {
   "cell_type": "code",
   "execution_count": 5,
   "metadata": {},
   "outputs": [],
   "source": [
    "data = df.iloc[:, 6:-1] # data, without 'class' column\n",
    "target = df.iloc[:, -1] #target, only 'class' column"
   ]
  },
  {
   "cell_type": "code",
   "execution_count": 6,
   "metadata": {},
   "outputs": [
    {
     "name": "stdout",
     "output_type": "stream",
     "text": [
      "train size=750, test_size=250, total_size=1000\n"
     ]
    }
   ],
   "source": [
    "X_train, X_test, Y_train, Y_test = \\\n",
    "    train_test_split(data, target, random_state=42, train_size=0.75)\n",
    "assert X_train.shape[0] + X_test.shape[0] == df.shape[0]\n",
    "print (\"train size={}, test_size={}, total_size={}\" \\\n",
    "       .format(X_train.shape[0], X_test.shape[0], df.shape[0]))"
   ]
  },
  {
   "cell_type": "code",
   "execution_count": 7,
   "metadata": {},
   "outputs": [],
   "source": [
    "from sklearn.model_selection import StratifiedKFold\n",
    "from sklearn.model_selection import cross_val_score\n",
    "\n",
    "from sklearn.linear_model import LogisticRegression\n",
    "from sklearn.neighbors import KNeighborsClassifier\n",
    "from sklearn import svm\n",
    "from sklearn.tree import DecisionTreeClassifier\n",
    "from sklearn.ensemble import RandomForestClassifier\n",
    "from sklearn.naive_bayes import GaussianNB, BernoulliNB\n",
    "    \n",
    "from sklearn.model_selection import GridSearchCV"
   ]
  },
  {
   "cell_type": "code",
   "execution_count": null,
   "metadata": {},
   "outputs": [],
   "source": []
  },
  {
   "cell_type": "code",
   "execution_count": 8,
   "metadata": {},
   "outputs": [],
   "source": [
    "labels = []\n",
    "means = []\n",
    "\n",
    "def create_lists(algorithm, accuracy):\n",
    "    labels.append(algorithm)\n",
    "    means.append(float('{:.2f}'.format(accuracy)))"
   ]
  },
  {
   "cell_type": "code",
   "execution_count": null,
   "metadata": {},
   "outputs": [],
   "source": []
  },
  {
   "cell_type": "code",
   "execution_count": 9,
   "metadata": {},
   "outputs": [],
   "source": [
    "log_model = LogisticRegression(random_state=42, max_iter=10000).fit(X_train, Y_train)"
   ]
  },
  {
   "cell_type": "code",
   "execution_count": 10,
   "metadata": {},
   "outputs": [],
   "source": [
    "skfold = StratifiedKFold(n_splits=3)"
   ]
  },
  {
   "cell_type": "code",
   "execution_count": 11,
   "metadata": {},
   "outputs": [],
   "source": [
    "log_scores = cross_val_score(log_model, data, target, cv=skfold)"
   ]
  },
  {
   "cell_type": "code",
   "execution_count": 12,
   "metadata": {},
   "outputs": [
    {
     "name": "stdout",
     "output_type": "stream",
     "text": [
      "Accuracy : [0.91916168 0.92192192 0.90690691]\n",
      "Mean accuracy: 0.92\n"
     ]
    }
   ],
   "source": [
    "print(\"Accuracy : {}\".format(log_scores))\n",
    "print(\"Mean accuracy: {:.2f}\".format(log_scores.mean()))"
   ]
  },
  {
   "cell_type": "code",
   "execution_count": 13,
   "metadata": {},
   "outputs": [],
   "source": [
    "create_lists('Logistic Regression', log_scores.mean())"
   ]
  },
  {
   "cell_type": "code",
   "execution_count": null,
   "metadata": {},
   "outputs": [],
   "source": []
  },
  {
   "cell_type": "code",
   "execution_count": 14,
   "metadata": {},
   "outputs": [],
   "source": [
    "knn_model = KNeighborsClassifier(n_neighbors=3).fit(X_train, Y_train)"
   ]
  },
  {
   "cell_type": "code",
   "execution_count": 15,
   "metadata": {},
   "outputs": [],
   "source": [
    "knn_scores = cross_val_score(knn_model, data, target, cv=skfold)"
   ]
  },
  {
   "cell_type": "code",
   "execution_count": 16,
   "metadata": {},
   "outputs": [
    {
     "name": "stdout",
     "output_type": "stream",
     "text": [
      "Accuracy : [0.87125749 0.88888889 0.87687688]\n",
      "Mean accuracy: 0.88\n"
     ]
    }
   ],
   "source": [
    "print(\"Accuracy : {}\".format(knn_scores))\n",
    "print(\"Mean accuracy: {:.2f}\".format(knn_scores.mean()))"
   ]
  },
  {
   "cell_type": "code",
   "execution_count": 17,
   "metadata": {},
   "outputs": [],
   "source": [
    "create_lists('K-Neighbors', knn_scores.mean())"
   ]
  },
  {
   "cell_type": "code",
   "execution_count": null,
   "metadata": {},
   "outputs": [],
   "source": []
  },
  {
   "cell_type": "code",
   "execution_count": 18,
   "metadata": {},
   "outputs": [],
   "source": [
    "svm_model = svm.SVC().fit(X_train, Y_train)"
   ]
  },
  {
   "cell_type": "code",
   "execution_count": 19,
   "metadata": {},
   "outputs": [],
   "source": [
    "svm_scores = cross_val_score(svm_model, data, target, cv=skfold)"
   ]
  },
  {
   "cell_type": "code",
   "execution_count": 20,
   "metadata": {},
   "outputs": [
    {
     "name": "stdout",
     "output_type": "stream",
     "text": [
      "Accuracy : [0.8742515  0.9009009  0.87387387]\n",
      "Mean accuracy: 0.88\n"
     ]
    }
   ],
   "source": [
    "print(\"Accuracy : {}\".format(svm_scores))\n",
    "print(\"Mean accuracy: {:.2f}\".format(svm_scores.mean()))"
   ]
  },
  {
   "cell_type": "code",
   "execution_count": 21,
   "metadata": {},
   "outputs": [],
   "source": [
    "create_lists('SVM', svm_scores.mean())"
   ]
  },
  {
   "cell_type": "code",
   "execution_count": null,
   "metadata": {},
   "outputs": [],
   "source": []
  },
  {
   "cell_type": "code",
   "execution_count": 22,
   "metadata": {},
   "outputs": [],
   "source": [
    "dtree_model = DecisionTreeClassifier(random_state=42).fit(X_train, Y_train)"
   ]
  },
  {
   "cell_type": "code",
   "execution_count": 23,
   "metadata": {},
   "outputs": [],
   "source": [
    "dtree_scores = cross_val_score(dtree_model, data, target, cv=skfold)"
   ]
  },
  {
   "cell_type": "code",
   "execution_count": 24,
   "metadata": {},
   "outputs": [
    {
     "name": "stdout",
     "output_type": "stream",
     "text": [
      "Accuracy : [0.93113772 0.92492492 0.93093093]\n",
      "Mean accuracy: 0.93\n"
     ]
    }
   ],
   "source": [
    "print(\"Accuracy : {}\".format(dtree_scores))\n",
    "print(\"Mean accuracy: {:.2f}\".format(dtree_scores.mean()))"
   ]
  },
  {
   "cell_type": "code",
   "execution_count": 25,
   "metadata": {},
   "outputs": [],
   "source": [
    "create_lists('Decision Tree', dtree_scores.mean())"
   ]
  },
  {
   "cell_type": "code",
   "execution_count": null,
   "metadata": {},
   "outputs": [],
   "source": []
  },
  {
   "cell_type": "code",
   "execution_count": 26,
   "metadata": {},
   "outputs": [],
   "source": [
    "rforest_model = RandomForestClassifier(n_estimators=10).fit(X_train, Y_train)"
   ]
  },
  {
   "cell_type": "code",
   "execution_count": 27,
   "metadata": {},
   "outputs": [],
   "source": [
    "rforest_scores = cross_val_score(rforest_model, data, target, cv=skfold)"
   ]
  },
  {
   "cell_type": "code",
   "execution_count": 28,
   "metadata": {},
   "outputs": [
    {
     "name": "stdout",
     "output_type": "stream",
     "text": [
      "Accuracy : [0.9491018  0.95795796 0.95195195]\n",
      "Mean accuracy: 0.95\n"
     ]
    }
   ],
   "source": [
    "print(\"Accuracy : {}\".format(rforest_scores))\n",
    "print(\"Mean accuracy: {:.2f}\".format(rforest_scores.mean()))"
   ]
  },
  {
   "cell_type": "code",
   "execution_count": 29,
   "metadata": {},
   "outputs": [],
   "source": [
    "create_lists('Random Forest', rforest_scores.mean())"
   ]
  },
  {
   "cell_type": "code",
   "execution_count": null,
   "metadata": {},
   "outputs": [],
   "source": []
  },
  {
   "cell_type": "code",
   "execution_count": 30,
   "metadata": {},
   "outputs": [],
   "source": [
    "# GaussianNBреализует гауссовский наивный байесовский алгоритм для классификации.\n",
    "# https://scikit-learn.org/stable/modules/naive_bayes.html\n",
    "gnb_model = GaussianNB().fit(X_train, Y_train)"
   ]
  },
  {
   "cell_type": "code",
   "execution_count": 31,
   "metadata": {},
   "outputs": [],
   "source": [
    "gnb_scores = cross_val_score(gnb_model, data, target, cv=skfold)"
   ]
  },
  {
   "cell_type": "code",
   "execution_count": 32,
   "metadata": {},
   "outputs": [
    {
     "name": "stdout",
     "output_type": "stream",
     "text": [
      "Accuracy : [0.95508982 0.95495495 0.95795796]\n",
      "Mean accuracy: 0.96\n"
     ]
    }
   ],
   "source": [
    "print(\"Accuracy : {}\".format(gnb_scores))\n",
    "print(\"Mean accuracy: {:.2f}\".format(gnb_scores.mean()))"
   ]
  },
  {
   "cell_type": "code",
   "execution_count": 33,
   "metadata": {},
   "outputs": [],
   "source": [
    "create_lists('Naive Bayes', gnb_scores.mean())"
   ]
  },
  {
   "cell_type": "code",
   "execution_count": null,
   "metadata": {},
   "outputs": [],
   "source": []
  },
  {
   "cell_type": "code",
   "execution_count": 34,
   "metadata": {},
   "outputs": [],
   "source": [
    "import seaborn as sns\n",
    "import matplotlib.pyplot as plt"
   ]
  },
  {
   "cell_type": "code",
   "execution_count": 35,
   "metadata": {},
   "outputs": [
    {
     "data": {
      "text/plain": [
       "Text(0.5, 0, 'ML Algorithm')"
      ]
     },
     "execution_count": 35,
     "metadata": {},
     "output_type": "execute_result"
    },
    {
     "data": {
      "image/png": "[encoded data removed]",
      "text/plain": [
       "<Figure size 648x360 with 1 Axes>"
      ]
     },
     "metadata": {
      "needs_background": "light"
     },
     "output_type": "display_data"
    }
   ],
   "source": [
    "plt.figure(figsize = (9,5))\n",
    "sns.barplot(x = pd.Series(labels), y = pd.Series(means))\n",
    "plt.ylabel('Accuracy')\n",
    "plt.xlabel('ML Algorithm')"
   ]
  },
  {
   "cell_type": "code",
   "execution_count": null,
   "metadata": {},
   "outputs": [],
   "source": []
  },
  {
   "cell_type": "code",
   "execution_count": 36,
   "metadata": {},
   "outputs": [],
   "source": [
    "df_temp = dict(zip(labels, means))"
   ]
  },
  {
   "cell_type": "code",
   "execution_count": 37,
   "metadata": {},
   "outputs": [
    {
     "data": {
      "text/plain": [
       "{'Logistic Regression': 0.92,\n",
       " 'K-Neighbors': 0.88,\n",
       " 'SVM': 0.88,\n",
       " 'Decision Tree': 0.93,\n",
       " 'Random Forest': 0.95,\n",
       " 'Naive Bayes': 0.96}"
      ]
     },
     "execution_count": 37,
     "metadata": {},
     "output_type": "execute_result"
    }
   ],
   "source": [
    "df_temp"
   ]
  },
  {
   "cell_type": "code",
   "execution_count": 38,
   "metadata": {},
   "outputs": [],
   "source": [
    "#создание датасета с наглядными названиями алгоритмов и их точностью в соотвествии с обобщающей способностью алгоритма \n",
    "#(в одну строку)\n",
    "beauty = pd.DataFrame(df_temp, index=['accuracy'])"
   ]
  },
  {
   "cell_type": "code",
   "execution_count": 39,
   "metadata": {},
   "outputs": [],
   "source": [
    "#beauty.style.set_table_styles([dict(selector=\"th\",props=[('max-column', '100px')])])"
   ]
  },
  {
   "cell_type": "code",
   "execution_count": 40,
   "metadata": {},
   "outputs": [
    {
     "data": {
      "text/html": [
       "<div>\n",
       "<style scoped>\n",
       "    .dataframe tbody tr th:only-of-type {\n",
       "        vertical-align: middle;\n",
       "    }\n",
       "\n",
       "    .dataframe tbody tr th {\n",
       "        vertical-align: top;\n",
       "    }\n",
       "\n",
       "    .dataframe thead th {\n",
       "        text-align: right;\n",
       "    }\n",
       "</style>\n",
       "<table border=\"1\" class=\"dataframe\">\n",
       "  <thead>\n",
       "    <tr style=\"text-align: right;\">\n",
       "      <th></th>\n",
       "      <th>Logistic Regression</th>\n",
       "      <th>K-Neighbors</th>\n",
       "      <th>SVM</th>\n",
       "      <th>Decision Tree</th>\n",
       "      <th>Random Forest</th>\n",
       "      <th>Naive Bayes</th>\n",
       "    </tr>\n",
       "  </thead>\n",
       "  <tbody>\n",
       "    <tr>\n",
       "      <th>accuracy</th>\n",
       "      <td>0.92</td>\n",
       "      <td>0.88</td>\n",
       "      <td>0.88</td>\n",
       "      <td>0.93</td>\n",
       "      <td>0.95</td>\n",
       "      <td>0.96</td>\n",
       "    </tr>\n",
       "  </tbody>\n",
       "</table>\n",
       "</div>"
      ],
      "text/plain": [
       "          Logistic Regression  K-Neighbors   SVM  Decision Tree  \\\n",
       "accuracy                 0.92         0.88  0.88           0.93   \n",
       "\n",
       "          Random Forest  Naive Bayes  \n",
       "accuracy           0.95         0.96  "
      ]
     },
     "execution_count": 40,
     "metadata": {},
     "output_type": "execute_result"
    }
   ],
   "source": [
    "beauty"
   ]
  },
  {
   "cell_type": "code",
   "execution_count": null,
   "metadata": {},
   "outputs": [],
   "source": []
  },
  {
   "cell_type": "code",
   "execution_count": 41,
   "metadata": {},
   "outputs": [],
   "source": [
    "#создание датасета с наглядными названиями алгоритмов и их точностью в соотвествии с обобщающей способностью алгоритма \n",
    "#(в виде таблицы)\n",
    "another_beauty = pd.concat([pd.Series(labels, name='ML Algorithm'), pd.Series(means, name='Accuracy')], axis=1)"
   ]
  },
  {
   "cell_type": "code",
   "execution_count": 42,
   "metadata": {},
   "outputs": [
    {
     "data": {
      "text/html": [
       "<div>\n",
       "<style scoped>\n",
       "    .dataframe tbody tr th:only-of-type {\n",
       "        vertical-align: middle;\n",
       "    }\n",
       "\n",
       "    .dataframe tbody tr th {\n",
       "        vertical-align: top;\n",
       "    }\n",
       "\n",
       "    .dataframe thead th {\n",
       "        text-align: right;\n",
       "    }\n",
       "</style>\n",
       "<table border=\"1\" class=\"dataframe\">\n",
       "  <thead>\n",
       "    <tr style=\"text-align: right;\">\n",
       "      <th></th>\n",
       "      <th>ML Algorithm</th>\n",
       "      <th>Accuracy</th>\n",
       "    </tr>\n",
       "  </thead>\n",
       "  <tbody>\n",
       "    <tr>\n",
       "      <th>0</th>\n",
       "      <td>Logistic Regression</td>\n",
       "      <td>0.92</td>\n",
       "    </tr>\n",
       "    <tr>\n",
       "      <th>1</th>\n",
       "      <td>K-Neighbors</td>\n",
       "      <td>0.88</td>\n",
       "    </tr>\n",
       "    <tr>\n",
       "      <th>2</th>\n",
       "      <td>SVM</td>\n",
       "      <td>0.88</td>\n",
       "    </tr>\n",
       "    <tr>\n",
       "      <th>3</th>\n",
       "      <td>Decision Tree</td>\n",
       "      <td>0.93</td>\n",
       "    </tr>\n",
       "    <tr>\n",
       "      <th>4</th>\n",
       "      <td>Random Forest</td>\n",
       "      <td>0.95</td>\n",
       "    </tr>\n",
       "    <tr>\n",
       "      <th>5</th>\n",
       "      <td>Naive Bayes</td>\n",
       "      <td>0.96</td>\n",
       "    </tr>\n",
       "  </tbody>\n",
       "</table>\n",
       "</div>"
      ],
      "text/plain": [
       "          ML Algorithm  Accuracy\n",
       "0  Logistic Regression      0.92\n",
       "1          K-Neighbors      0.88\n",
       "2                  SVM      0.88\n",
       "3        Decision Tree      0.93\n",
       "4        Random Forest      0.95\n",
       "5          Naive Bayes      0.96"
      ]
     },
     "execution_count": 42,
     "metadata": {},
     "output_type": "execute_result"
    }
   ],
   "source": [
    "another_beauty"
   ]
  },
  {
   "cell_type": "code",
   "execution_count": 44,
   "metadata": {},
   "outputs": [
    {
     "data": {
      "text/html": [
       "<div>\n",
       "<style scoped>\n",
       "    .dataframe tbody tr th:only-of-type {\n",
       "        vertical-align: middle;\n",
       "    }\n",
       "\n",
       "    .dataframe tbody tr th {\n",
       "        vertical-align: top;\n",
       "    }\n",
       "\n",
       "    .dataframe thead th {\n",
       "        text-align: right;\n",
       "    }\n",
       "</style>\n",
       "<table border=\"1\" class=\"dataframe\">\n",
       "  <thead>\n",
       "    <tr style=\"text-align: right;\">\n",
       "      <th></th>\n",
       "      <th>ML Algorithm</th>\n",
       "      <th>Accuracy</th>\n",
       "    </tr>\n",
       "  </thead>\n",
       "  <tbody>\n",
       "    <tr>\n",
       "      <th>0</th>\n",
       "      <td>Naive Bayes</td>\n",
       "      <td>0.96</td>\n",
       "    </tr>\n",
       "    <tr>\n",
       "      <th>1</th>\n",
       "      <td>Random Forest</td>\n",
       "      <td>0.95</td>\n",
       "    </tr>\n",
       "    <tr>\n",
       "      <th>2</th>\n",
       "      <td>Decision Tree</td>\n",
       "      <td>0.93</td>\n",
       "    </tr>\n",
       "  </tbody>\n",
       "</table>\n",
       "</div>"
      ],
      "text/plain": [
       "    ML Algorithm  Accuracy\n",
       "0    Naive Bayes      0.96\n",
       "1  Random Forest      0.95\n",
       "2  Decision Tree      0.93"
      ]
     },
     "execution_count": 44,
     "metadata": {},
     "output_type": "execute_result"
    }
   ],
   "source": [
    "#выбрать три лучших алгоритма\n",
    "another_beauty.sort_values('Accuracy', ascending=False).head(3).reset_index(drop=True)"
   ]
  },
  {
   "cell_type": "code",
   "execution_count": null,
   "metadata": {},
   "outputs": [],
   "source": []
  },
  {
   "cell_type": "code",
   "execution_count": 45,
   "metadata": {},
   "outputs": [],
   "source": [
    "from sklearn.model_selection import GridSearchCV"
   ]
  },
  {
   "cell_type": "code",
   "execution_count": 46,
   "metadata": {},
   "outputs": [
    {
     "name": "stdout",
     "output_type": "stream",
     "text": [
      "Wall time: 2min 46s\n"
     ]
    }
   ],
   "source": [
    "%%time\n",
    "RandFor = RandomForestClassifier()\n",
    "parametrs = { 'n_estimators': range (10, 51, 10),\n",
    "              'max_depth': range (1,13, 2),\n",
    "              'min_samples_leaf': range (1,8),\n",
    "              'min_samples_split': range (2,10,2) }\n",
    "randgrid = GridSearchCV(RandFor, parametrs)\n",
    "randgrid.fit(X_train, Y_train)\n",
    "prediction_randgrid = randgrid.predict(X_test)"
   ]
  },
  {
   "cell_type": "code",
   "execution_count": null,
   "metadata": {},
   "outputs": [],
   "source": []
  },
  {
   "cell_type": "code",
   "execution_count": 47,
   "metadata": {},
   "outputs": [],
   "source": [
    "RandFor = RandomForestClassifier()"
   ]
  },
  {
   "cell_type": "code",
   "execution_count": 48,
   "metadata": {},
   "outputs": [],
   "source": [
    "#https://vc.ru/ml/147132-kak-avtomaticheski-podobrat-parametry-dlya-modeli-mashinnogo-obucheniya-ispolzuem-gridsearchcv\n",
    "parametrs = { 'n_estimators': range (10, 51, 10),\n",
    "              'max_depth': range (1,13, 2),\n",
    "              'min_samples_leaf': range (1,8),\n",
    "              'min_samples_split': range (2,10,2) }"
   ]
  },
  {
   "cell_type": "code",
   "execution_count": 49,
   "metadata": {},
   "outputs": [],
   "source": [
    "randgrid = GridSearchCV(RandFor, parametrs)"
   ]
  },
  {
   "cell_type": "code",
   "execution_count": null,
   "metadata": {},
   "outputs": [],
   "source": []
  },
  {
   "cell_type": "code",
   "execution_count": 50,
   "metadata": {},
   "outputs": [
    {
     "name": "stdout",
     "output_type": "stream",
     "text": [
      "Wall time: 2min 47s\n"
     ]
    }
   ],
   "source": [
    "%%time\n",
    "randgrid.fit(X_train, Y_train)\n",
    "res = randgrid.predict(X_test)"
   ]
  },
  {
   "cell_type": "code",
   "execution_count": null,
   "metadata": {},
   "outputs": [],
   "source": []
  },
  {
   "cell_type": "code",
   "execution_count": 51,
   "metadata": {},
   "outputs": [
    {
     "data": {
      "text/plain": [
       "GridSearchCV(estimator=RandomForestClassifier(),\n",
       "             param_grid={'max_depth': range(1, 13, 2),\n",
       "                         'min_samples_leaf': range(1, 8),\n",
       "                         'min_samples_split': range(2, 10, 2),\n",
       "                         'n_estimators': range(10, 51, 10)})"
      ]
     },
     "execution_count": 51,
     "metadata": {},
     "output_type": "execute_result"
    }
   ],
   "source": [
    "randgrid.fit(X_train, Y_train)"
   ]
  },
  {
   "cell_type": "code",
   "execution_count": 52,
   "metadata": {},
   "outputs": [
    {
     "data": {
      "text/plain": [
       "{'max_depth': 5,\n",
       " 'min_samples_leaf': 4,\n",
       " 'min_samples_split': 8,\n",
       " 'n_estimators': 30}"
      ]
     },
     "execution_count": 52,
     "metadata": {},
     "output_type": "execute_result"
    }
   ],
   "source": [
    "randgrid.best_params_"
   ]
  },
  {
   "cell_type": "code",
   "execution_count": 56,
   "metadata": {},
   "outputs": [],
   "source": [
    "from sklearn import metrics"
   ]
  },
  {
   "cell_type": "code",
   "execution_count": 57,
   "metadata": {},
   "outputs": [],
   "source": [
    "prediction_randgrid = randgrid.predict(X_test)"
   ]
  },
  {
   "cell_type": "code",
   "execution_count": 58,
   "metadata": {},
   "outputs": [],
   "source": [
    "#accuracy доля правильно классифицированных объектов\n",
    "acc_randgrid = metrics.accuracy_score(Y_test, prediction_randgrid)"
   ]
  },
  {
   "cell_type": "code",
   "execution_count": 59,
   "metadata": {},
   "outputs": [
    {
     "data": {
      "text/plain": [
       "0.972"
      ]
     },
     "execution_count": 59,
     "metadata": {},
     "output_type": "execute_result"
    }
   ],
   "source": [
    "acc_randgrid"
   ]
  },
  {
   "cell_type": "code",
   "execution_count": 60,
   "metadata": {},
   "outputs": [],
   "source": [
    "#precision точность при отнесении объектов к нулевому классу (normal)\n",
    "prec_randgrid_0 = metrics.precision_score(Y_test, prediction_randgrid, pos_label=0)"
   ]
  },
  {
   "cell_type": "code",
   "execution_count": 61,
   "metadata": {},
   "outputs": [
    {
     "data": {
      "text/plain": [
       "0.9548387096774194"
      ]
     },
     "execution_count": 61,
     "metadata": {},
     "output_type": "execute_result"
    }
   ],
   "source": [
    "prec_randgrid_0"
   ]
  },
  {
   "cell_type": "code",
   "execution_count": 62,
   "metadata": {},
   "outputs": [],
   "source": [
    "#precision точность при отнесении объектов к первому классу (abnormal)\n",
    "prec_randgrid_1 = metrics.precision_score(Y_test, prediction_randgrid)"
   ]
  },
  {
   "cell_type": "code",
   "execution_count": 63,
   "metadata": {},
   "outputs": [
    {
     "data": {
      "text/plain": [
       "1.0"
      ]
     },
     "execution_count": 63,
     "metadata": {},
     "output_type": "execute_result"
    }
   ],
   "source": [
    "prec_randgrid_1"
   ]
  },
  {
   "cell_type": "code",
   "execution_count": 64,
   "metadata": {},
   "outputs": [],
   "source": [
    "#recall полнота\n",
    "rec_randgrid_0 = metrics.recall_score(Y_test, prediction_randgrid, pos_label=0)\n",
    "rec_randgrid_1 = metrics.recall_score(Y_test, prediction_randgrid)"
   ]
  },
  {
   "cell_type": "code",
   "execution_count": 65,
   "metadata": {},
   "outputs": [
    {
     "data": {
      "text/plain": [
       "1.0"
      ]
     },
     "execution_count": 65,
     "metadata": {},
     "output_type": "execute_result"
    }
   ],
   "source": [
    "rec_randgrid_0"
   ]
  },
  {
   "cell_type": "code",
   "execution_count": 66,
   "metadata": {},
   "outputs": [
    {
     "data": {
      "text/plain": [
       "0.9313725490196079"
      ]
     },
     "execution_count": 66,
     "metadata": {},
     "output_type": "execute_result"
    }
   ],
   "source": [
    "rec_randgrid_1"
   ]
  },
  {
   "cell_type": "code",
   "execution_count": 67,
   "metadata": {},
   "outputs": [],
   "source": [
    "#f-score\n",
    "f_randgrid_0 = metrics.f1_score(Y_test, prediction_randgrid, pos_label=0)\n",
    "f_randgrid_1 = metrics.f1_score(Y_test, prediction_randgrid)"
   ]
  },
  {
   "cell_type": "code",
   "execution_count": 68,
   "metadata": {},
   "outputs": [
    {
     "data": {
      "text/plain": [
       "0.9768976897689768"
      ]
     },
     "execution_count": 68,
     "metadata": {},
     "output_type": "execute_result"
    }
   ],
   "source": [
    "f_randgrid_0"
   ]
  },
  {
   "cell_type": "code",
   "execution_count": 69,
   "metadata": {},
   "outputs": [
    {
     "data": {
      "text/plain": [
       "0.9644670050761421"
      ]
     },
     "execution_count": 69,
     "metadata": {},
     "output_type": "execute_result"
    }
   ],
   "source": [
    "f_randgrid_1"
   ]
  },
  {
   "cell_type": "code",
   "execution_count": 70,
   "metadata": {},
   "outputs": [
    {
     "name": "stdout",
     "output_type": "stream",
     "text": [
      "              precision    recall  f1-score   support\n",
      "\n",
      "           0       0.95      1.00      0.98       148\n",
      "           1       1.00      0.93      0.96       102\n",
      "\n",
      "    accuracy                           0.97       250\n",
      "   macro avg       0.98      0.97      0.97       250\n",
      "weighted avg       0.97      0.97      0.97       250\n",
      "\n"
     ]
    }
   ],
   "source": [
    "print(metrics.classification_report(Y_test, prediction_randgrid))"
   ]
  },
  {
   "cell_type": "code",
   "execution_count": 71,
   "metadata": {},
   "outputs": [],
   "source": [
    "# support - сколько изначально было объектов в разных классах -> што?\n",
    "# первые строки - характеристики в разрезе классов\n",
    "# думаю, что последняя строка - то, во что превратилось avg/total, усредненное значение по метрикам\n",
    "# я так глянула - можно только эту таблицу взять, она выдает те же результаты, только все вместе"
   ]
  },
  {
   "cell_type": "code",
   "execution_count": 72,
   "metadata": {},
   "outputs": [],
   "source": [
    "# ROC-кривая нужна для того, чтобы оценить качество модели\n",
    "# пунктиром задана кривая для классификатора, который предсказывает случайным образом\n",
    "\n",
    "# сначала нужно получить вероятностные характеристики, стр. 219-220 в книге\n",
    "randgrid_probabilities = randgrid.predict_proba(X_test)\n",
    "# затем получить ложноположительные и истинноположительные доли вероятностей\n",
    "false_positive_rate, true_positive_rate, threshold = metrics.roc_curve(Y_test, randgrid_probabilities[:,1])"
   ]
  },
  {
   "cell_type": "code",
   "execution_count": 73,
   "metadata": {},
   "outputs": [
    {
     "data": {
      "image/png": "[encoded data removed]",
      "text/plain": [
       "<Figure size 432x288 with 1 Axes>"
      ]
     },
     "metadata": {
      "needs_background": "light"
     },
     "output_type": "display_data"
    }
   ],
   "source": [
    "# строим график\n",
    "plt.title(\"ROC curve\")\n",
    "plt.plot(false_positive_rate, true_positive_rate)\n",
    "plt.plot([0, 1], ls=\"--\")\n",
    "plt.plot([0, 0], [1, 0] , c=\".7\")\n",
    "plt.plot([1, 1] , c=\".7\")\n",
    "plt.ylabel(\"Доля истинноположительных исходов\")\n",
    "plt.xlabel(\"Доля ложноположительных исходов\")\n",
    "plt.show()"
   ]
  },
  {
   "cell_type": "code",
   "execution_count": 74,
   "metadata": {},
   "outputs": [],
   "source": [
    "# просто данные для красивого и правильного ROC\n",
    "from sklearn.datasets import make_classification\n",
    "features, target = make_classification(n_samples=10000,\n",
    "                                       n_features=10,\n",
    "                                       n_classes=2,\n",
    "                                       n_informative=3,\n",
    "                                       random_state=3)\n",
    "# Разбить на тренировочный и тестовый наборы\n",
    "features_train, features_test, target_train, target_test = train_test_split(features, target, test_size=0.1, random_state=1)\n",
    "# Создать логистический регрессионный классификатор\n",
    "logit = LogisticRegression()\n",
    "# Натренировать модель\n",
    "logit.fit(features_train, target_train)\n",
    "# Получить предсказанные вероятности\n",
    "target_probabilities = logit.predict_proba(features_test)[:,1]\n",
    "# Создать доли истинно- и ложноположительных исходов\n",
    "fpr, tpr, _ = metrics.roc_curve(target_test, target_probabilities)"
   ]
  },
  {
   "cell_type": "code",
   "execution_count": 75,
   "metadata": {},
   "outputs": [
    {
     "data": {
      "text/plain": [
       "<matplotlib.legend.Legend at 0x2103eacdfd0>"
      ]
     },
     "execution_count": 75,
     "metadata": {},
     "output_type": "execute_result"
    },
    {
     "data": {
      "image/png": "[encoded data removed]",
      "text/plain": [
       "<Figure size 432x288 with 1 Axes>"
      ]
     },
     "metadata": {
      "needs_background": "light"
     },
     "output_type": "display_data"
    }
   ],
   "source": [
    "plt.plot(false_positive_rate, true_positive_rate, label='random forest clf')\n",
    "plt.plot(fpr, tpr, label='ideal clf')\n",
    "plt.plot([0,1], [0,1], '--', color='grey', label='random clf')\n",
    "plt.xlim([-0.05, 1.05])\n",
    "plt.ylim([-0.05, 1.05])\n",
    "plt.xlabel('False Positive Rate')\n",
    "plt.ylabel('True Positive Rate')\n",
    "plt.title('ROC curve')\n",
    "plt.legend(loc='lower right')\n",
    "# https://ru.coursera.org/lecture/supervised-learning/mietriki-kachiestva-sklearn-metrics-f63de"
   ]
  },
  {
   "cell_type": "code",
   "execution_count": 76,
   "metadata": {},
   "outputs": [],
   "source": [
    "# чтобы количественно оценить качество модели, надо посчитать площадь подкривой\n",
    "# можно передать как вероятностную классификацию, так и по меткам\n",
    "# по меткам в рамках группы элементны могут идти в случайном порядке\n",
    "# вероятностные более упорядоченны\n",
    "# поэтому значения будут близкими, но все же разными"
   ]
  },
  {
   "cell_type": "code",
   "execution_count": 77,
   "metadata": {},
   "outputs": [],
   "source": [
    "randfor_roc_auc_labels = metrics.roc_auc_score(Y_test, prediction_randgrid) # метки\n",
    "randfor_roc_auc_probas = metrics.roc_auc_score(Y_test, randgrid_probabilities[:,1]) # вероятности"
   ]
  },
  {
   "cell_type": "code",
   "execution_count": 78,
   "metadata": {},
   "outputs": [
    {
     "data": {
      "text/plain": [
       "0.9656862745098039"
      ]
     },
     "execution_count": 78,
     "metadata": {},
     "output_type": "execute_result"
    }
   ],
   "source": [
    "randfor_roc_auc_labels"
   ]
  },
  {
   "cell_type": "code",
   "execution_count": 79,
   "metadata": {},
   "outputs": [
    {
     "data": {
      "text/plain": [
       "0.9616454689984102"
      ]
     },
     "execution_count": 79,
     "metadata": {},
     "output_type": "execute_result"
    }
   ],
   "source": [
    "randfor_roc_auc_probas"
   ]
  },
  {
   "cell_type": "code",
   "execution_count": 80,
   "metadata": {},
   "outputs": [],
   "source": [
    "# логистические потери, чем меньше, тем лучше\n",
    "rand_log_los = metrics.log_loss(Y_test, prediction_randgrid)"
   ]
  },
  {
   "cell_type": "code",
   "execution_count": 81,
   "metadata": {},
   "outputs": [
    {
     "data": {
      "text/plain": [
       "0.9670857390574998"
      ]
     },
     "execution_count": 81,
     "metadata": {},
     "output_type": "execute_result"
    }
   ],
   "source": [
    "rand_log_los"
   ]
  },
  {
   "cell_type": "code",
   "execution_count": null,
   "metadata": {},
   "outputs": [],
   "source": []
  },
  {
   "cell_type": "code",
   "execution_count": 82,
   "metadata": {},
   "outputs": [],
   "source": [
    "NaiveBayes = GaussianNB()"
   ]
  },
  {
   "cell_type": "code",
   "execution_count": 83,
   "metadata": {},
   "outputs": [],
   "source": [
    "parametrs = {}\n",
    "# Во-первых, GaussianNB принимает только priors в качестве аргумента, поэтому, если у вас нет каких-либо предварительных условий, которые нужно установить для вашей модели заранее, вам нечего будет искать по сетке.\n",
    "# https://stackoverflow.com/questions/51194627/python-naive-bayes-with-cross-validation-using-gaussiannb-classifier"
   ]
  },
  {
   "cell_type": "code",
   "execution_count": 84,
   "metadata": {},
   "outputs": [],
   "source": [
    "bayesgrid = GridSearchCV(NaiveBayes, parametrs)"
   ]
  },
  {
   "cell_type": "code",
   "execution_count": null,
   "metadata": {},
   "outputs": [],
   "source": []
  },
  {
   "cell_type": "code",
   "execution_count": 86,
   "metadata": {},
   "outputs": [
    {
     "name": "stdout",
     "output_type": "stream",
     "text": [
      "Wall time: 22 ms\n"
     ]
    }
   ],
   "source": [
    "%%time\n",
    "bayesgrid.fit(X_train, Y_train)\n",
    "res = bayesgrid.predict(X_test)"
   ]
  },
  {
   "cell_type": "code",
   "execution_count": null,
   "metadata": {},
   "outputs": [],
   "source": []
  },
  {
   "cell_type": "code",
   "execution_count": 87,
   "metadata": {},
   "outputs": [
    {
     "data": {
      "text/plain": [
       "GridSearchCV(estimator=GaussianNB(), param_grid={})"
      ]
     },
     "execution_count": 87,
     "metadata": {},
     "output_type": "execute_result"
    }
   ],
   "source": [
    "bayesgrid.fit(X_train, Y_train)"
   ]
  },
  {
   "cell_type": "code",
   "execution_count": 88,
   "metadata": {},
   "outputs": [
    {
     "data": {
      "text/plain": [
       "{}"
      ]
     },
     "execution_count": 88,
     "metadata": {},
     "output_type": "execute_result"
    }
   ],
   "source": [
    "bayesgrid.best_params_"
   ]
  },
  {
   "cell_type": "code",
   "execution_count": 89,
   "metadata": {},
   "outputs": [],
   "source": [
    "prediction_bayesgrid = bayesgrid.predict(X_test)"
   ]
  },
  {
   "cell_type": "code",
   "execution_count": 90,
   "metadata": {},
   "outputs": [],
   "source": [
    "#accuracy доля правильно классифицированных объектов\n",
    "acc_bayesgrid = metrics.accuracy_score(Y_test, prediction_bayesgrid)"
   ]
  },
  {
   "cell_type": "code",
   "execution_count": 91,
   "metadata": {},
   "outputs": [
    {
     "data": {
      "text/plain": [
       "0.96"
      ]
     },
     "execution_count": 91,
     "metadata": {},
     "output_type": "execute_result"
    }
   ],
   "source": [
    "acc_bayesgrid"
   ]
  },
  {
   "cell_type": "code",
   "execution_count": 92,
   "metadata": {},
   "outputs": [],
   "source": [
    "#precision точность при отнесении объектов к нулевому классу (normal) и первому классу (abnormal)\n",
    "prec_bayesgrid_0 = metrics.precision_score(Y_test, prediction_bayesgrid, pos_label=0)\n",
    "prec_bayesgrid_1 = metrics.precision_score(Y_test, prediction_bayesgrid)"
   ]
  },
  {
   "cell_type": "code",
   "execution_count": 93,
   "metadata": {},
   "outputs": [
    {
     "data": {
      "text/plain": [
       "0.9367088607594937"
      ]
     },
     "execution_count": 93,
     "metadata": {},
     "output_type": "execute_result"
    }
   ],
   "source": [
    "prec_bayesgrid_0"
   ]
  },
  {
   "cell_type": "code",
   "execution_count": 94,
   "metadata": {},
   "outputs": [
    {
     "data": {
      "text/plain": [
       "1.0"
      ]
     },
     "execution_count": 94,
     "metadata": {},
     "output_type": "execute_result"
    }
   ],
   "source": [
    "prec_bayesgrid_1"
   ]
  },
  {
   "cell_type": "code",
   "execution_count": 95,
   "metadata": {},
   "outputs": [],
   "source": [
    "#recall полнота\n",
    "rec_bayesgrid_0 = metrics.recall_score(Y_test, prediction_bayesgrid, pos_label=0)\n",
    "rec_bayesgrid_1 = metrics.recall_score(Y_test, prediction_bayesgrid)"
   ]
  },
  {
   "cell_type": "code",
   "execution_count": 96,
   "metadata": {},
   "outputs": [
    {
     "data": {
      "text/plain": [
       "1.0"
      ]
     },
     "execution_count": 96,
     "metadata": {},
     "output_type": "execute_result"
    }
   ],
   "source": [
    "rec_bayesgrid_0"
   ]
  },
  {
   "cell_type": "code",
   "execution_count": 97,
   "metadata": {},
   "outputs": [
    {
     "data": {
      "text/plain": [
       "0.9019607843137255"
      ]
     },
     "execution_count": 97,
     "metadata": {},
     "output_type": "execute_result"
    }
   ],
   "source": [
    "rec_bayesgrid_1"
   ]
  },
  {
   "cell_type": "code",
   "execution_count": 98,
   "metadata": {},
   "outputs": [],
   "source": [
    "#f-score\n",
    "f_bayesgrid_0 = metrics.f1_score(Y_test, prediction_bayesgrid, pos_label=0)\n",
    "f_bayesgrid_1 = metrics.f1_score(Y_test, prediction_bayesgrid)"
   ]
  },
  {
   "cell_type": "code",
   "execution_count": 99,
   "metadata": {},
   "outputs": [
    {
     "data": {
      "text/plain": [
       "0.9673202614379084"
      ]
     },
     "execution_count": 99,
     "metadata": {},
     "output_type": "execute_result"
    }
   ],
   "source": [
    "f_bayesgrid_0"
   ]
  },
  {
   "cell_type": "code",
   "execution_count": 100,
   "metadata": {},
   "outputs": [
    {
     "data": {
      "text/plain": [
       "0.9484536082474228"
      ]
     },
     "execution_count": 100,
     "metadata": {},
     "output_type": "execute_result"
    }
   ],
   "source": [
    "f_bayesgrid_1"
   ]
  },
  {
   "cell_type": "code",
   "execution_count": 101,
   "metadata": {},
   "outputs": [
    {
     "name": "stdout",
     "output_type": "stream",
     "text": [
      "              precision    recall  f1-score   support\n",
      "\n",
      "           0       0.94      1.00      0.97       148\n",
      "           1       1.00      0.90      0.95       102\n",
      "\n",
      "    accuracy                           0.96       250\n",
      "   macro avg       0.97      0.95      0.96       250\n",
      "weighted avg       0.96      0.96      0.96       250\n",
      "\n"
     ]
    }
   ],
   "source": [
    "print(metrics.classification_report(Y_test, prediction_bayesgrid))"
   ]
  },
  {
   "cell_type": "code",
   "execution_count": 102,
   "metadata": {},
   "outputs": [],
   "source": [
    "# ROC-кривая нужна для того, чтобы оценить качество модели"
   ]
  },
  {
   "cell_type": "code",
   "execution_count": 103,
   "metadata": {},
   "outputs": [],
   "source": [
    "bayesgrid_probabilities = bayesgrid.predict_proba(X_test)"
   ]
  },
  {
   "cell_type": "code",
   "execution_count": 104,
   "metadata": {},
   "outputs": [],
   "source": [
    "fpr_bayes, tpr_bayes, _ = metrics.roc_curve(Y_test, bayesgrid_probabilities[:,1])"
   ]
  },
  {
   "cell_type": "code",
   "execution_count": 105,
   "metadata": {},
   "outputs": [
    {
     "data": {
      "text/plain": [
       "<matplotlib.legend.Legend at 0x2103eab9d30>"
      ]
     },
     "execution_count": 105,
     "metadata": {},
     "output_type": "execute_result"
    },
    {
     "data": {
      "image/png": "[encoded data removed]",
      "text/plain": [
       "<Figure size 432x288 with 1 Axes>"
      ]
     },
     "metadata": {
      "needs_background": "light"
     },
     "output_type": "display_data"
    }
   ],
   "source": [
    "plt.plot(fpr_bayes, tpr_bayes, label='naive bayes clf')\n",
    "plt.plot(fpr, tpr, label='ideal clf')\n",
    "plt.plot([0,1], [0,1], '--', color='grey', label='random clf')\n",
    "plt.xlim([-0.05, 1.05])\n",
    "plt.ylim([-0.05, 1.05])\n",
    "plt.xlabel('False Positive Rate')\n",
    "plt.ylabel('True Positive Rate')\n",
    "plt.title('ROC curve')\n",
    "plt.legend(loc='lower right')"
   ]
  },
  {
   "cell_type": "code",
   "execution_count": 106,
   "metadata": {},
   "outputs": [
    {
     "data": {
      "text/plain": [
       "<matplotlib.legend.Legend at 0x2103ea0c250>"
      ]
     },
     "execution_count": 106,
     "metadata": {},
     "output_type": "execute_result"
    },
    {
     "data": {
      "image/png": "[encoded data removed]",
      "text/plain": [
       "<Figure size 432x288 with 1 Axes>"
      ]
     },
     "metadata": {
      "needs_background": "light"
     },
     "output_type": "display_data"
    }
   ],
   "source": [
    "# с предыдущим алгоритмом\n",
    "plt.plot(false_positive_rate, true_positive_rate, ls=':', label='random forest clf', color='green')\n",
    "plt.plot(fpr_bayes, tpr_bayes, label='naive bayes clf', color='lightblue')\n",
    "plt.plot(fpr, tpr, label='ideal clf', color='darkorange')\n",
    "plt.plot([0,1], [0,1], '--', color='grey', label='random clf')\n",
    "plt.xlim([-0.05, 1.05])\n",
    "plt.ylim([-0.05, 1.05])\n",
    "plt.xlabel('False Positive Rate')\n",
    "plt.ylabel('True Positive Rate')\n",
    "plt.title('ROC curve')\n",
    "plt.legend(loc='lower right')"
   ]
  },
  {
   "cell_type": "code",
   "execution_count": 107,
   "metadata": {},
   "outputs": [],
   "source": [
    "# чтобы количественно оценить качество модели, надо посчитать площадь подкривой\n",
    "bayes_roc_auc_labels = metrics.roc_auc_score(Y_test, prediction_bayesgrid) # метки\n",
    "bayes_roc_auc_probas = metrics.roc_auc_score(Y_test, bayesgrid_probabilities[:,1]) # вероятности"
   ]
  },
  {
   "cell_type": "code",
   "execution_count": 108,
   "metadata": {},
   "outputs": [
    {
     "data": {
      "text/plain": [
       "0.9509803921568627"
      ]
     },
     "execution_count": 108,
     "metadata": {},
     "output_type": "execute_result"
    }
   ],
   "source": [
    "bayes_roc_auc_labels"
   ]
  },
  {
   "cell_type": "code",
   "execution_count": 109,
   "metadata": {},
   "outputs": [
    {
     "data": {
      "text/plain": [
       "0.9697270800211977"
      ]
     },
     "execution_count": 109,
     "metadata": {},
     "output_type": "execute_result"
    }
   ],
   "source": [
    "bayes_roc_auc_probas"
   ]
  },
  {
   "cell_type": "code",
   "execution_count": 110,
   "metadata": {},
   "outputs": [
    {
     "data": {
      "text/plain": [
       "0.9697270800211977"
      ]
     },
     "execution_count": 110,
     "metadata": {},
     "output_type": "execute_result"
    }
   ],
   "source": [
    "metrics.roc_auc_score(Y_test, bayesgrid_probabilities[:,1]) # вероятности"
   ]
  },
  {
   "cell_type": "code",
   "execution_count": 111,
   "metadata": {},
   "outputs": [],
   "source": [
    "# логистические потери, чем меньше, тем лучше\n",
    "log_los_bayess = metrics.log_loss(Y_test, prediction_randgrid)"
   ]
  },
  {
   "cell_type": "code",
   "execution_count": 112,
   "metadata": {},
   "outputs": [
    {
     "data": {
      "text/plain": [
       "0.9670857390574998"
      ]
     },
     "execution_count": 112,
     "metadata": {},
     "output_type": "execute_result"
    }
   ],
   "source": [
    "log_los_bayess"
   ]
  },
  {
   "cell_type": "code",
   "execution_count": null,
   "metadata": {},
   "outputs": [],
   "source": []
  },
  {
   "cell_type": "code",
   "execution_count": 113,
   "metadata": {},
   "outputs": [],
   "source": [
    "DesTree = DecisionTreeClassifier()"
   ]
  },
  {
   "cell_type": "code",
   "execution_count": 114,
   "metadata": {},
   "outputs": [],
   "source": [
    "parametrs = { 'criterion': ['gini', 'entropy'],\n",
    "              'splitter': ['best', 'random'],\n",
    "              'max_depth': range (1, 13, 2),\n",
    "              'min_samples_leaf': range (1, 8),\n",
    "              'min_samples_split': range (2, 10, 2),\n",
    "              'max_features': ['auto', 'sqrt', 'log2']   \n",
    "}"
   ]
  },
  {
   "cell_type": "code",
   "execution_count": 117,
   "metadata": {},
   "outputs": [],
   "source": [
    "dtreegrid = GridSearchCV(DesTree, parametrs)"
   ]
  },
  {
   "cell_type": "code",
   "execution_count": null,
   "metadata": {},
   "outputs": [],
   "source": []
  },
  {
   "cell_type": "code",
   "execution_count": 118,
   "metadata": {},
   "outputs": [
    {
     "name": "stdout",
     "output_type": "stream",
     "text": [
      "Wall time: 32.4 s\n"
     ]
    }
   ],
   "source": [
    "%%time\n",
    "dtreegrid.fit(X_train, Y_train)\n",
    "res = dtreegrid.predict(X_test) "
   ]
  },
  {
   "cell_type": "code",
   "execution_count": null,
   "metadata": {},
   "outputs": [],
   "source": []
  },
  {
   "cell_type": "code",
   "execution_count": 119,
   "metadata": {},
   "outputs": [
    {
     "data": {
      "text/plain": [
       "GridSearchCV(estimator=DecisionTreeClassifier(),\n",
       "             param_grid={'criterion': ['gini', 'entropy'],\n",
       "                         'max_depth': range(1, 13, 2),\n",
       "                         'max_features': ['auto', 'sqrt', 'log2'],\n",
       "                         'min_samples_leaf': range(1, 8),\n",
       "                         'min_samples_split': range(2, 10, 2),\n",
       "                         'splitter': ['best', 'random']})"
      ]
     },
     "execution_count": 119,
     "metadata": {},
     "output_type": "execute_result"
    }
   ],
   "source": [
    "dtreegrid.fit(X_train, Y_train)"
   ]
  },
  {
   "cell_type": "code",
   "execution_count": 120,
   "metadata": {},
   "outputs": [
    {
     "data": {
      "text/plain": [
       "{'criterion': 'entropy',\n",
       " 'max_depth': 9,\n",
       " 'max_features': 'auto',\n",
       " 'min_samples_leaf': 6,\n",
       " 'min_samples_split': 2,\n",
       " 'splitter': 'best'}"
      ]
     },
     "execution_count": 120,
     "metadata": {},
     "output_type": "execute_result"
    }
   ],
   "source": [
    "dtreegrid.best_params_"
   ]
  },
  {
   "cell_type": "code",
   "execution_count": 121,
   "metadata": {},
   "outputs": [],
   "source": [
    "prediction_dtreegrid = dtreegrid.predict(X_test)"
   ]
  },
  {
   "cell_type": "code",
   "execution_count": 122,
   "metadata": {},
   "outputs": [],
   "source": [
    "#accuracy доля правильно классифицированных объектов\n",
    "acc_dtreegrid = metrics.accuracy_score(Y_test, prediction_dtreegrid)"
   ]
  },
  {
   "cell_type": "code",
   "execution_count": 123,
   "metadata": {},
   "outputs": [
    {
     "data": {
      "text/plain": [
       "0.924"
      ]
     },
     "execution_count": 123,
     "metadata": {},
     "output_type": "execute_result"
    }
   ],
   "source": [
    "acc_dtreegrid"
   ]
  },
  {
   "cell_type": "code",
   "execution_count": 271,
   "metadata": {},
   "outputs": [],
   "source": [
    "#precision точность при отнесении объектов к нулевому классу (normal), к первому классу (abnormal)\n",
    "prec_dtreegrid_0 = metrics.precision_score(Y_test, prediction_dtreegrid, pos_label=0)\n",
    "prec_dtreegrid_1 = metrics.precision_score(Y_test, prediction_dtreegrid)"
   ]
  },
  {
   "cell_type": "code",
   "execution_count": 272,
   "metadata": {},
   "outputs": [
    {
     "data": {
      "text/plain": [
       "0.9328859060402684"
      ]
     },
     "execution_count": 272,
     "metadata": {},
     "output_type": "execute_result"
    }
   ],
   "source": [
    "prec_dtreegrid_0"
   ]
  },
  {
   "cell_type": "code",
   "execution_count": 273,
   "metadata": {},
   "outputs": [
    {
     "data": {
      "text/plain": [
       "0.9108910891089109"
      ]
     },
     "execution_count": 273,
     "metadata": {},
     "output_type": "execute_result"
    }
   ],
   "source": [
    "prec_dtreegrid_1"
   ]
  },
  {
   "cell_type": "code",
   "execution_count": 274,
   "metadata": {},
   "outputs": [],
   "source": [
    "#recall полнота\n",
    "rec_dtreegrid_0 = metrics.recall_score(Y_test, prediction_dtreegrid, pos_label=0)\n",
    "rec_dtreegrid_1 = metrics.recall_score(Y_test, prediction_dtreegrid)"
   ]
  },
  {
   "cell_type": "code",
   "execution_count": 275,
   "metadata": {},
   "outputs": [
    {
     "data": {
      "text/plain": [
       "0.9391891891891891"
      ]
     },
     "execution_count": 275,
     "metadata": {},
     "output_type": "execute_result"
    }
   ],
   "source": [
    "rec_dtreegrid_0"
   ]
  },
  {
   "cell_type": "code",
   "execution_count": 276,
   "metadata": {},
   "outputs": [
    {
     "data": {
      "text/plain": [
       "0.9019607843137255"
      ]
     },
     "execution_count": 276,
     "metadata": {},
     "output_type": "execute_result"
    }
   ],
   "source": [
    "rec_dtreegrid_1"
   ]
  },
  {
   "cell_type": "code",
   "execution_count": 277,
   "metadata": {},
   "outputs": [],
   "source": [
    "#f-score\n",
    "f_dtreegrid_0 = metrics.f1_score(Y_test, prediction_dtreegrid, pos_label=0)\n",
    "f_dtreegrid_1 = metrics.f1_score(Y_test, prediction_dtreegrid)"
   ]
  },
  {
   "cell_type": "code",
   "execution_count": 278,
   "metadata": {},
   "outputs": [
    {
     "data": {
      "text/plain": [
       "0.936026936026936"
      ]
     },
     "execution_count": 278,
     "metadata": {},
     "output_type": "execute_result"
    }
   ],
   "source": [
    "f_dtreegrid_0 "
   ]
  },
  {
   "cell_type": "code",
   "execution_count": 279,
   "metadata": {},
   "outputs": [
    {
     "data": {
      "text/plain": [
       "0.9064039408866996"
      ]
     },
     "execution_count": 279,
     "metadata": {},
     "output_type": "execute_result"
    }
   ],
   "source": [
    "f_dtreegrid_1"
   ]
  },
  {
   "cell_type": "code",
   "execution_count": 281,
   "metadata": {},
   "outputs": [
    {
     "name": "stdout",
     "output_type": "stream",
     "text": [
      "              precision    recall  f1-score   support\n",
      "\n",
      "           0       0.93      0.94      0.94       148\n",
      "           1       0.91      0.90      0.91       102\n",
      "\n",
      "    accuracy                           0.92       250\n",
      "   macro avg       0.92      0.92      0.92       250\n",
      "weighted avg       0.92      0.92      0.92       250\n",
      "\n"
     ]
    }
   ],
   "source": [
    "print(metrics.classification_report(Y_test, prediction_dtreegrid))"
   ]
  },
  {
   "cell_type": "code",
   "execution_count": 282,
   "metadata": {},
   "outputs": [],
   "source": [
    "# ROC-кривая нужна для того, чтобы оценить качество модели\n",
    "# пунктиром задана кривая для классификатора, который предсказывает случайным образом\n",
    "\n",
    "# сначала нужно получить вероятностные характеристики, стр. 219-220 в книге\n",
    "dtreegrid_probabilities = dtreegrid.predict_proba(X_test)\n",
    "# затем получить ложноположительные и истинноположительные доли вероятностей\n",
    "fpr_dtree, tpr_dtree, _ = metrics.roc_curve(Y_test, dtreegrid_probabilities[:,1])"
   ]
  },
  {
   "cell_type": "code",
   "execution_count": 283,
   "metadata": {},
   "outputs": [
    {
     "data": {
      "text/plain": [
       "<matplotlib.legend.Legend at 0x20c842afcd0>"
      ]
     },
     "execution_count": 283,
     "metadata": {},
     "output_type": "execute_result"
    },
    {
     "data": {
      "image/png": "[encoded data removed]",
      "text/plain": [
       "<Figure size 432x288 with 1 Axes>"
      ]
     },
     "metadata": {
      "needs_background": "light"
     },
     "output_type": "display_data"
    }
   ],
   "source": [
    "plt.plot(fpr_dtree, tpr_dtree, label='descision tree clf')\n",
    "plt.plot(fpr, tpr, label='ideal clf')\n",
    "plt.plot([0,1], [0,1], '--', color='grey', label='random clf')\n",
    "plt.xlim([-0.05, 1.05])\n",
    "plt.ylim([-0.05, 1.05])\n",
    "plt.xlabel('False Positive Rate')\n",
    "plt.ylabel('True Positive Rate')\n",
    "plt.title('ROC curve')\n",
    "plt.legend(loc='lower right')"
   ]
  },
  {
   "cell_type": "code",
   "execution_count": 301,
   "metadata": {},
   "outputs": [
    {
     "data": {
      "text/plain": [
       "<matplotlib.legend.Legend at 0x20c843b7820>"
      ]
     },
     "execution_count": 301,
     "metadata": {},
     "output_type": "execute_result"
    },
    {
     "data": {
      "image/png": "[encoded data removed]",
      "text/plain": [
       "<Figure size 432x288 with 1 Axes>"
      ]
     },
     "metadata": {
      "needs_background": "light"
     },
     "output_type": "display_data"
    }
   ],
   "source": [
    "# с предыдущими алгоритмами\n",
    "plt.plot(false_positive_rate, true_positive_rate, ls=':', label='random forest clf', color='green')\n",
    "plt.plot(fpr_bayes, tpr_bayes, label='naive bayes clf', color='lightblue')\n",
    "plt.plot(fpr_dtree, tpr_dtree, label='descision tree clf', ls='-.')\n",
    "plt.plot(fpr, tpr, label='ideal clf', color='darkorange')\n",
    "plt.plot([0,1], [0,1], '--', color='grey', label='random clf')\n",
    "plt.xlim([-0.05, 1.05])\n",
    "plt.ylim([-0.05, 1.05])\n",
    "plt.xlabel('False Positive Rate')\n",
    "plt.ylabel('True Positive Rate')\n",
    "plt.title('ROC curve')\n",
    "plt.legend(loc='lower right')"
   ]
  },
  {
   "cell_type": "code",
   "execution_count": 286,
   "metadata": {},
   "outputs": [],
   "source": [
    "# чтобы количественно оценить качество модели, надо посчитать площадь подкривой\n",
    "dtree_roc_auc_metrics = metrics.roc_auc_score(Y_test, prediction_dtreegrid) # метки\n",
    "dtree_roc_auc_probas = metrics.roc_auc_score(Y_test, dtreegrid_probabilities[:,1]) # вероятности"
   ]
  },
  {
   "cell_type": "code",
   "execution_count": 287,
   "metadata": {},
   "outputs": [
    {
     "data": {
      "text/plain": [
       "0.9205749867514572"
      ]
     },
     "execution_count": 287,
     "metadata": {},
     "output_type": "execute_result"
    }
   ],
   "source": [
    "dtree_roc_auc_metrics"
   ]
  },
  {
   "cell_type": "code",
   "execution_count": 288,
   "metadata": {},
   "outputs": [
    {
     "data": {
      "text/plain": [
       "0.918355855855856"
      ]
     },
     "execution_count": 288,
     "metadata": {},
     "output_type": "execute_result"
    }
   ],
   "source": [
    "dtree_roc_auc_probas"
   ]
  },
  {
   "cell_type": "code",
   "execution_count": 289,
   "metadata": {},
   "outputs": [],
   "source": [
    "log_loss_dtree = metrics.log_loss(Y_test, prediction_dtreegrid)"
   ]
  },
  {
   "cell_type": "code",
   "execution_count": 290,
   "metadata": {},
   "outputs": [
    {
     "data": {
      "text/plain": [
       "2.6249757915206997"
      ]
     },
     "execution_count": 290,
     "metadata": {},
     "output_type": "execute_result"
    }
   ],
   "source": [
    "log_loss_dtree"
   ]
  },
  {
   "cell_type": "code",
   "execution_count": null,
   "metadata": {},
   "outputs": [],
   "source": []
  },
  {
   "cell_type": "code",
   "execution_count": 302,
   "metadata": {},
   "outputs": [],
   "source": [
    "# pd.concat([pd.Series(labels, name='ML Algorithm'), pd.Series(means, name='Accuracy')], axis=1)"
   ]
  },
  {
   "cell_type": "code",
   "execution_count": 306,
   "metadata": {},
   "outputs": [],
   "source": [
    "# собираем инфу\n",
    "algorithms = ['Random Forest', 'Naive Bayes', 'Decision Tree']\n",
    "accurasies = [acc_randgrid, acc_bayesgrid, acc_dtreegrid]\n",
    "prescisions_0 = [prec_randgrid_0, prec_bayesgrid_0, prec_dtreegrid_0]\n",
    "prescisions_1 = [prec_randgrid_1, prec_bayesgrid_1, prec_dtreegrid_1]\n",
    "recalls_0 = [rec_randgrid_0, rec_bayesgrid_0, rec_dtreegrid_0]\n",
    "recalls_1 = [rec_randgrid_1, rec_bayesgrid_1, rec_dtreegrid_1]\n",
    "f1s_0 = [f_randgrid_0, f_bayesgrid_0, f_dtreegrid_0]\n",
    "f1s_1 = [f_randgrid_1, f_bayesgrid_1, f_dtreegrid_1]\n",
    "roc_auc_labels = [randfor_roc_auc_labels, bayes_roc_auc_labels, dtree_roc_auc_metrics]\n",
    "roc_auc_probas = [randfor_roc_auc_probas, bayes_roc_auc_probas, dtree_roc_auc_probas]\n",
    "log_loss = [rand_log_los, log_los_bayess, log_loss_dtree]"
   ]
  },
  {
   "cell_type": "code",
   "execution_count": 307,
   "metadata": {},
   "outputs": [
    {
     "data": {
      "text/plain": [
       "<matplotlib.legend.Legend at 0x20c843a9df0>"
      ]
     },
     "execution_count": 307,
     "metadata": {},
     "output_type": "execute_result"
    },
    {
     "data": {
      "image/png": "[encoded data removed]",
      "text/plain": [
       "<Figure size 432x288 with 1 Axes>"
      ]
     },
     "metadata": {
      "needs_background": "light"
     },
     "output_type": "display_data"
    }
   ],
   "source": [
    "# с предыдущими алгоритмами\n",
    "# дубль\n",
    "plt.plot(false_positive_rate, true_positive_rate, ls=':', label='random forest clf', color='green')\n",
    "plt.plot(fpr_bayes, tpr_bayes, label='naive bayes clf', color='lightblue')\n",
    "plt.plot(fpr_dtree, tpr_dtree, label='descision tree clf', ls='-.')\n",
    "plt.plot(fpr, tpr, label='ideal clf', color='darkorange')\n",
    "plt.plot([0,1], [0,1], '--', color='grey', label='random clf')\n",
    "plt.xlim([-0.05, 1.05])\n",
    "plt.ylim([-0.05, 1.05])\n",
    "plt.xlabel('False Positive Rate')\n",
    "plt.ylabel('True Positive Rate')\n",
    "plt.title('ROC curve')\n",
    "plt.legend(loc='lower right')"
   ]
  },
  {
   "cell_type": "code",
   "execution_count": 309,
   "metadata": {},
   "outputs": [
    {
     "data": {
      "text/html": [
       "<div>\n",
       "<style scoped>\n",
       "    .dataframe tbody tr th:only-of-type {\n",
       "        vertical-align: middle;\n",
       "    }\n",
       "\n",
       "    .dataframe tbody tr th {\n",
       "        vertical-align: top;\n",
       "    }\n",
       "\n",
       "    .dataframe thead th {\n",
       "        text-align: right;\n",
       "    }\n",
       "</style>\n",
       "<table border=\"1\" class=\"dataframe\">\n",
       "  <thead>\n",
       "    <tr style=\"text-align: right;\">\n",
       "      <th></th>\n",
       "      <th>ML Algorithm</th>\n",
       "      <th>Accuracy</th>\n",
       "      <th>Prescision normal</th>\n",
       "      <th>Prescision abnormal</th>\n",
       "      <th>Recall normal</th>\n",
       "      <th>Recall abnormal</th>\n",
       "      <th>F-score normal</th>\n",
       "      <th>F-score abnormal</th>\n",
       "      <th>ROC AUC labels</th>\n",
       "      <th>ROC AUC probabilities</th>\n",
       "      <th>Log Loss</th>\n",
       "    </tr>\n",
       "  </thead>\n",
       "  <tbody>\n",
       "    <tr>\n",
       "      <th>0</th>\n",
       "      <td>Random Forest</td>\n",
       "      <td>0.972</td>\n",
       "      <td>0.936709</td>\n",
       "      <td>1.000000</td>\n",
       "      <td>1.000000</td>\n",
       "      <td>0.931373</td>\n",
       "      <td>0.976898</td>\n",
       "      <td>0.964467</td>\n",
       "      <td>0.965686</td>\n",
       "      <td>0.972708</td>\n",
       "      <td>0.967086</td>\n",
       "    </tr>\n",
       "    <tr>\n",
       "      <th>1</th>\n",
       "      <td>Naive Bayes</td>\n",
       "      <td>0.960</td>\n",
       "      <td>0.936709</td>\n",
       "      <td>1.000000</td>\n",
       "      <td>1.000000</td>\n",
       "      <td>0.901961</td>\n",
       "      <td>0.967320</td>\n",
       "      <td>0.948454</td>\n",
       "      <td>0.950980</td>\n",
       "      <td>0.969727</td>\n",
       "      <td>0.967086</td>\n",
       "    </tr>\n",
       "    <tr>\n",
       "      <th>2</th>\n",
       "      <td>Decision Tree</td>\n",
       "      <td>0.924</td>\n",
       "      <td>0.932886</td>\n",
       "      <td>0.910891</td>\n",
       "      <td>0.939189</td>\n",
       "      <td>0.901961</td>\n",
       "      <td>0.936027</td>\n",
       "      <td>0.906404</td>\n",
       "      <td>0.920575</td>\n",
       "      <td>0.918356</td>\n",
       "      <td>2.624976</td>\n",
       "    </tr>\n",
       "  </tbody>\n",
       "</table>\n",
       "</div>"
      ],
      "text/plain": [
       "    ML Algorithm  Accuracy  Prescision normal  Prescision abnormal  Recall normal  Recall abnormal  F-score normal  F-score abnormal  ROC AUC labels  ROC AUC probabilities  Log Loss\n",
       "0  Random Forest     0.972           0.936709             1.000000       1.000000         0.931373        0.976898          0.964467        0.965686               0.972708  0.967086\n",
       "1    Naive Bayes     0.960           0.936709             1.000000       1.000000         0.901961        0.967320          0.948454        0.950980               0.969727  0.967086\n",
       "2  Decision Tree     0.924           0.932886             0.910891       0.939189         0.901961        0.936027          0.906404        0.920575               0.918356  2.624976"
      ]
     },
     "execution_count": 309,
     "metadata": {},
     "output_type": "execute_result"
    }
   ],
   "source": [
    "pd.concat([pd.Series(algorithms, name='ML Algorithm'), \n",
    "           pd.Series(accurasies, name='Accuracy'),\n",
    "           pd.Series(prescisions_0, name='Prescision normal'),\n",
    "           pd.Series(prescisions_1, name='Prescision abnormal'),\n",
    "           pd.Series(recalls_0, name='Recall normal'),\n",
    "           pd.Series(recalls_1, name='Recall abnormal'),\n",
    "           pd.Series(f1s_0, name='F-score normal'),\n",
    "           pd.Series(f1s_1, name='F-score abnormal'),\n",
    "           pd.Series(roc_auc_labels, name='ROC AUC labels'),\n",
    "           pd.Series(roc_auc_probas, name='ROC AUC probabilities'),\n",
    "           pd.Series(log_loss, name='Log Loss')\n",
    "          ], axis=1)"
   ]
  },
  {
   "cell_type": "code",
   "execution_count": null,
   "metadata": {},
   "outputs": [],
   "source": []
  }
 ],
 "metadata": {
  "kernelspec": {
   "display_name": "Python 3",
   "language": "python",
   "name": "python3"
  },
  "language_info": {
   "codemirror_mode": {
    "name": "ipython",
    "version": 3
   },
   "file_extension": ".py",
   "mimetype": "text/x-python",
   "name": "python",
   "nbconvert_exporter": "python",
   "pygments_lexer": "ipython3",
   "version": "3.8.5"
  }
 },
 "nbformat": 4,
 "nbformat_minor": 4
}
